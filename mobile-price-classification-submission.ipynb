{
 "cells": [
  {
   "cell_type": "markdown",
   "metadata": {
    "papermill": {
     "duration": 0.039839,
     "end_time": "2020-11-15T14:14:29.426191",
     "exception": false,
     "start_time": "2020-11-15T14:14:29.386352",
     "status": "completed"
    },
    "tags": []
   },
   "source": [
    "# Mobile Price Classification - a Machine Learning Project"
   ]
  },
  {
   "cell_type": "markdown",
   "metadata": {
    "papermill": {
     "duration": 0.036771,
     "end_time": "2020-11-15T14:14:29.501732",
     "exception": false,
     "start_time": "2020-11-15T14:14:29.464961",
     "status": "completed"
    },
    "tags": []
   },
   "source": [
    "## Using Machine Learning Classifier Algorithms to achieve a 99.75 success rate"
   ]
  },
  {
   "cell_type": "markdown",
   "metadata": {
    "papermill": {
     "duration": 0.036906,
     "end_time": "2020-11-15T14:14:29.576272",
     "exception": false,
     "start_time": "2020-11-15T14:14:29.539366",
     "status": "completed"
    },
    "tags": []
   },
   "source": [
    "This project looks at various categories that influence the price of a particular phone. \n",
    "\n",
    "Price is given in the form of a range - 0 (lowest), 1 (mid), 2 (upper) and 3 (highest) range. Categories have all been given their individual values and are represented for the most part in integer values. \n",
    "\n",
    "What I am going to do witht his project is to start with cleaning the dataset, presenting the dataset in the form of a range constituting integer values, and use that as means to define my machine learning algorithm of choice. \n",
    "\n",
    "I am going to divide this project into 3 parts -\n",
    "* Data Wrangling / Cleaning\n",
    "* Data Visualization\n",
    "* Machine Learning\n",
    "\n",
    "For Data Wrangling and Cleaning, I will be using pandas and numpy libraries offered by Python to perform relatively simple tasks all revolving around grouping and restructuring data. \n",
    "\n",
    "For Data Visualization, I am going to stick to seaborn as upon first glance, this dataset does not require any fancy graphs to provide explanations. However, I will import matplotlib and plotly just for backup. \n",
    "\n",
    "For Machine Learning, I am going to stick to the 7 most popular classifier algorithms - \n",
    "* Decision Tree Classifier\n",
    "* Random Forest Classifier\n",
    "* Support Vector Classifier (SVC)\n",
    "* K Neighbour or K-Nearest Neighbour Classifier\n",
    "* Gaussian Naive Bayes Classifier\n",
    "* Perceptron Classifier\n",
    "* Stochastic Gradient Descent (SGD) Classifier\n",
    "\n",
    "Hopefully, this will give us the result that we nee in order to make the best prediction for given test dataset. "
   ]
  },
  {
   "cell_type": "markdown",
   "metadata": {
    "papermill": {
     "duration": 0.036842,
     "end_time": "2020-11-15T14:14:29.649998",
     "exception": false,
     "start_time": "2020-11-15T14:14:29.613156",
     "status": "completed"
    },
    "tags": []
   },
   "source": [
    "### Import Libraries and Dataset"
   ]
  },
  {
   "cell_type": "markdown",
   "metadata": {
    "papermill": {
     "duration": 0.037097,
     "end_time": "2020-11-15T14:14:29.724169",
     "exception": false,
     "start_time": "2020-11-15T14:14:29.687072",
     "status": "completed"
    },
    "tags": []
   },
   "source": [
    "We start off the process by importing the functions and libraries we require, and the dataset we will implement them on. We will import along the lines of the categories I previously listed. "
   ]
  },
  {
   "cell_type": "code",
   "execution_count": 1,
   "metadata": {
    "_cell_guid": "79c7e3d0-c299-4dcb-8224-4455121ee9b0",
    "_uuid": "d629ff2d2480ee46fbb7e2d37f6b5fab8052498a",
    "execution": {
     "iopub.execute_input": "2020-11-15T14:14:29.806819Z",
     "iopub.status.busy": "2020-11-15T14:14:29.806088Z",
     "iopub.status.idle": "2020-11-15T14:14:32.359688Z",
     "shell.execute_reply": "2020-11-15T14:14:32.359022Z"
    },
    "papermill": {
     "duration": 2.597985,
     "end_time": "2020-11-15T14:14:32.359824",
     "exception": false,
     "start_time": "2020-11-15T14:14:29.761839",
     "status": "completed"
    },
    "tags": []
   },
   "outputs": [
    {
     "name": "stdout",
     "output_type": "stream",
     "text": [
      "Data Wrangling / Cleaning Libraries Imported Successfully\n",
      "Data Visualization Libraries Imported Successfully\n",
      "Machine Learning Libraries Imported Successfully\n"
     ]
    }
   ],
   "source": [
    "#for data wrangling / cleaning\n",
    "import pandas as pd\n",
    "import numpy as np\n",
    "import math\n",
    "print(\"Data Wrangling / Cleaning Libraries Imported Successfully\")\n",
    "\n",
    "#for data visualization\n",
    "import matplotlib.pyplot as plt\n",
    "import seaborn as sns\n",
    "import plotly.express as px\n",
    "import plotly.graph_objects as go\n",
    "print(\"Data Visualization Libraries Imported Successfully\")\n",
    "\n",
    "#for machine learning\n",
    "from sklearn.svm import SVC\n",
    "from sklearn.ensemble import RandomForestClassifier\n",
    "from sklearn.neighbors import KNeighborsClassifier\n",
    "from sklearn.naive_bayes import GaussianNB\n",
    "from sklearn.linear_model import Perceptron\n",
    "from sklearn.linear_model import SGDClassifier\n",
    "from sklearn.tree import DecisionTreeClassifier\n",
    "print(\"Machine Learning Libraries Imported Successfully\")"
   ]
  },
  {
   "cell_type": "markdown",
   "metadata": {
    "papermill": {
     "duration": 0.039394,
     "end_time": "2020-11-15T14:14:32.438285",
     "exception": false,
     "start_time": "2020-11-15T14:14:32.398891",
     "status": "completed"
    },
    "tags": []
   },
   "source": [
    "Now that we have imported the libraries, we move onto importing the dataset. Since there are two datasets available, **train** and **test**, we will register both of them to separate variables of their own and create a concatenated dataset, called **data**. "
   ]
  },
  {
   "cell_type": "code",
   "execution_count": 2,
   "metadata": {
    "execution": {
     "iopub.execute_input": "2020-11-15T14:14:32.524249Z",
     "iopub.status.busy": "2020-11-15T14:14:32.523574Z",
     "iopub.status.idle": "2020-11-15T14:14:32.588112Z",
     "shell.execute_reply": "2020-11-15T14:14:32.588643Z"
    },
    "papermill": {
     "duration": 0.112248,
     "end_time": "2020-11-15T14:14:32.588785",
     "exception": false,
     "start_time": "2020-11-15T14:14:32.476537",
     "status": "completed"
    },
    "tags": []
   },
   "outputs": [
    {
     "data": {
      "text/html": [
       "<div>\n",
       "<style scoped>\n",
       "    .dataframe tbody tr th:only-of-type {\n",
       "        vertical-align: middle;\n",
       "    }\n",
       "\n",
       "    .dataframe tbody tr th {\n",
       "        vertical-align: top;\n",
       "    }\n",
       "\n",
       "    .dataframe thead th {\n",
       "        text-align: right;\n",
       "    }\n",
       "</style>\n",
       "<table border=\"1\" class=\"dataframe\">\n",
       "  <thead>\n",
       "    <tr style=\"text-align: right;\">\n",
       "      <th></th>\n",
       "      <th>battery_power</th>\n",
       "      <th>blue</th>\n",
       "      <th>clock_speed</th>\n",
       "      <th>dual_sim</th>\n",
       "      <th>fc</th>\n",
       "      <th>four_g</th>\n",
       "      <th>int_memory</th>\n",
       "      <th>m_dep</th>\n",
       "      <th>mobile_wt</th>\n",
       "      <th>n_cores</th>\n",
       "      <th>...</th>\n",
       "      <th>px_width</th>\n",
       "      <th>ram</th>\n",
       "      <th>sc_h</th>\n",
       "      <th>sc_w</th>\n",
       "      <th>talk_time</th>\n",
       "      <th>three_g</th>\n",
       "      <th>touch_screen</th>\n",
       "      <th>wifi</th>\n",
       "      <th>price_range</th>\n",
       "      <th>id</th>\n",
       "    </tr>\n",
       "  </thead>\n",
       "  <tbody>\n",
       "    <tr>\n",
       "      <th>0</th>\n",
       "      <td>842</td>\n",
       "      <td>0</td>\n",
       "      <td>2.2</td>\n",
       "      <td>0</td>\n",
       "      <td>1</td>\n",
       "      <td>0</td>\n",
       "      <td>7</td>\n",
       "      <td>0.6</td>\n",
       "      <td>188</td>\n",
       "      <td>2</td>\n",
       "      <td>...</td>\n",
       "      <td>756</td>\n",
       "      <td>2549</td>\n",
       "      <td>9</td>\n",
       "      <td>7</td>\n",
       "      <td>19</td>\n",
       "      <td>0</td>\n",
       "      <td>0</td>\n",
       "      <td>1</td>\n",
       "      <td>1.0</td>\n",
       "      <td>NaN</td>\n",
       "    </tr>\n",
       "    <tr>\n",
       "      <th>1</th>\n",
       "      <td>1021</td>\n",
       "      <td>1</td>\n",
       "      <td>0.5</td>\n",
       "      <td>1</td>\n",
       "      <td>0</td>\n",
       "      <td>1</td>\n",
       "      <td>53</td>\n",
       "      <td>0.7</td>\n",
       "      <td>136</td>\n",
       "      <td>3</td>\n",
       "      <td>...</td>\n",
       "      <td>1988</td>\n",
       "      <td>2631</td>\n",
       "      <td>17</td>\n",
       "      <td>3</td>\n",
       "      <td>7</td>\n",
       "      <td>1</td>\n",
       "      <td>1</td>\n",
       "      <td>0</td>\n",
       "      <td>2.0</td>\n",
       "      <td>NaN</td>\n",
       "    </tr>\n",
       "    <tr>\n",
       "      <th>2</th>\n",
       "      <td>563</td>\n",
       "      <td>1</td>\n",
       "      <td>0.5</td>\n",
       "      <td>1</td>\n",
       "      <td>2</td>\n",
       "      <td>1</td>\n",
       "      <td>41</td>\n",
       "      <td>0.9</td>\n",
       "      <td>145</td>\n",
       "      <td>5</td>\n",
       "      <td>...</td>\n",
       "      <td>1716</td>\n",
       "      <td>2603</td>\n",
       "      <td>11</td>\n",
       "      <td>2</td>\n",
       "      <td>9</td>\n",
       "      <td>1</td>\n",
       "      <td>1</td>\n",
       "      <td>0</td>\n",
       "      <td>2.0</td>\n",
       "      <td>NaN</td>\n",
       "    </tr>\n",
       "    <tr>\n",
       "      <th>3</th>\n",
       "      <td>615</td>\n",
       "      <td>1</td>\n",
       "      <td>2.5</td>\n",
       "      <td>0</td>\n",
       "      <td>0</td>\n",
       "      <td>0</td>\n",
       "      <td>10</td>\n",
       "      <td>0.8</td>\n",
       "      <td>131</td>\n",
       "      <td>6</td>\n",
       "      <td>...</td>\n",
       "      <td>1786</td>\n",
       "      <td>2769</td>\n",
       "      <td>16</td>\n",
       "      <td>8</td>\n",
       "      <td>11</td>\n",
       "      <td>1</td>\n",
       "      <td>0</td>\n",
       "      <td>0</td>\n",
       "      <td>2.0</td>\n",
       "      <td>NaN</td>\n",
       "    </tr>\n",
       "    <tr>\n",
       "      <th>4</th>\n",
       "      <td>1821</td>\n",
       "      <td>1</td>\n",
       "      <td>1.2</td>\n",
       "      <td>0</td>\n",
       "      <td>13</td>\n",
       "      <td>1</td>\n",
       "      <td>44</td>\n",
       "      <td>0.6</td>\n",
       "      <td>141</td>\n",
       "      <td>2</td>\n",
       "      <td>...</td>\n",
       "      <td>1212</td>\n",
       "      <td>1411</td>\n",
       "      <td>8</td>\n",
       "      <td>2</td>\n",
       "      <td>15</td>\n",
       "      <td>1</td>\n",
       "      <td>1</td>\n",
       "      <td>0</td>\n",
       "      <td>1.0</td>\n",
       "      <td>NaN</td>\n",
       "    </tr>\n",
       "    <tr>\n",
       "      <th>5</th>\n",
       "      <td>1859</td>\n",
       "      <td>0</td>\n",
       "      <td>0.5</td>\n",
       "      <td>1</td>\n",
       "      <td>3</td>\n",
       "      <td>0</td>\n",
       "      <td>22</td>\n",
       "      <td>0.7</td>\n",
       "      <td>164</td>\n",
       "      <td>1</td>\n",
       "      <td>...</td>\n",
       "      <td>1654</td>\n",
       "      <td>1067</td>\n",
       "      <td>17</td>\n",
       "      <td>1</td>\n",
       "      <td>10</td>\n",
       "      <td>1</td>\n",
       "      <td>0</td>\n",
       "      <td>0</td>\n",
       "      <td>1.0</td>\n",
       "      <td>NaN</td>\n",
       "    </tr>\n",
       "    <tr>\n",
       "      <th>6</th>\n",
       "      <td>1821</td>\n",
       "      <td>0</td>\n",
       "      <td>1.7</td>\n",
       "      <td>0</td>\n",
       "      <td>4</td>\n",
       "      <td>1</td>\n",
       "      <td>10</td>\n",
       "      <td>0.8</td>\n",
       "      <td>139</td>\n",
       "      <td>8</td>\n",
       "      <td>...</td>\n",
       "      <td>1018</td>\n",
       "      <td>3220</td>\n",
       "      <td>13</td>\n",
       "      <td>8</td>\n",
       "      <td>18</td>\n",
       "      <td>1</td>\n",
       "      <td>0</td>\n",
       "      <td>1</td>\n",
       "      <td>3.0</td>\n",
       "      <td>NaN</td>\n",
       "    </tr>\n",
       "    <tr>\n",
       "      <th>7</th>\n",
       "      <td>1954</td>\n",
       "      <td>0</td>\n",
       "      <td>0.5</td>\n",
       "      <td>1</td>\n",
       "      <td>0</td>\n",
       "      <td>0</td>\n",
       "      <td>24</td>\n",
       "      <td>0.8</td>\n",
       "      <td>187</td>\n",
       "      <td>4</td>\n",
       "      <td>...</td>\n",
       "      <td>1149</td>\n",
       "      <td>700</td>\n",
       "      <td>16</td>\n",
       "      <td>3</td>\n",
       "      <td>5</td>\n",
       "      <td>1</td>\n",
       "      <td>1</td>\n",
       "      <td>1</td>\n",
       "      <td>0.0</td>\n",
       "      <td>NaN</td>\n",
       "    </tr>\n",
       "    <tr>\n",
       "      <th>8</th>\n",
       "      <td>1445</td>\n",
       "      <td>1</td>\n",
       "      <td>0.5</td>\n",
       "      <td>0</td>\n",
       "      <td>0</td>\n",
       "      <td>0</td>\n",
       "      <td>53</td>\n",
       "      <td>0.7</td>\n",
       "      <td>174</td>\n",
       "      <td>7</td>\n",
       "      <td>...</td>\n",
       "      <td>836</td>\n",
       "      <td>1099</td>\n",
       "      <td>17</td>\n",
       "      <td>1</td>\n",
       "      <td>20</td>\n",
       "      <td>1</td>\n",
       "      <td>0</td>\n",
       "      <td>0</td>\n",
       "      <td>0.0</td>\n",
       "      <td>NaN</td>\n",
       "    </tr>\n",
       "    <tr>\n",
       "      <th>9</th>\n",
       "      <td>509</td>\n",
       "      <td>1</td>\n",
       "      <td>0.6</td>\n",
       "      <td>1</td>\n",
       "      <td>2</td>\n",
       "      <td>1</td>\n",
       "      <td>9</td>\n",
       "      <td>0.1</td>\n",
       "      <td>93</td>\n",
       "      <td>5</td>\n",
       "      <td>...</td>\n",
       "      <td>1224</td>\n",
       "      <td>513</td>\n",
       "      <td>19</td>\n",
       "      <td>10</td>\n",
       "      <td>12</td>\n",
       "      <td>1</td>\n",
       "      <td>0</td>\n",
       "      <td>0</td>\n",
       "      <td>0.0</td>\n",
       "      <td>NaN</td>\n",
       "    </tr>\n",
       "  </tbody>\n",
       "</table>\n",
       "<p>10 rows × 22 columns</p>\n",
       "</div>"
      ],
      "text/plain": [
       "   battery_power  blue  clock_speed  dual_sim  fc  four_g  int_memory  m_dep  \\\n",
       "0            842     0          2.2         0   1       0           7    0.6   \n",
       "1           1021     1          0.5         1   0       1          53    0.7   \n",
       "2            563     1          0.5         1   2       1          41    0.9   \n",
       "3            615     1          2.5         0   0       0          10    0.8   \n",
       "4           1821     1          1.2         0  13       1          44    0.6   \n",
       "5           1859     0          0.5         1   3       0          22    0.7   \n",
       "6           1821     0          1.7         0   4       1          10    0.8   \n",
       "7           1954     0          0.5         1   0       0          24    0.8   \n",
       "8           1445     1          0.5         0   0       0          53    0.7   \n",
       "9            509     1          0.6         1   2       1           9    0.1   \n",
       "\n",
       "   mobile_wt  n_cores  ...  px_width   ram  sc_h  sc_w  talk_time  three_g  \\\n",
       "0        188        2  ...       756  2549     9     7         19        0   \n",
       "1        136        3  ...      1988  2631    17     3          7        1   \n",
       "2        145        5  ...      1716  2603    11     2          9        1   \n",
       "3        131        6  ...      1786  2769    16     8         11        1   \n",
       "4        141        2  ...      1212  1411     8     2         15        1   \n",
       "5        164        1  ...      1654  1067    17     1         10        1   \n",
       "6        139        8  ...      1018  3220    13     8         18        1   \n",
       "7        187        4  ...      1149   700    16     3          5        1   \n",
       "8        174        7  ...       836  1099    17     1         20        1   \n",
       "9         93        5  ...      1224   513    19    10         12        1   \n",
       "\n",
       "   touch_screen  wifi  price_range  id  \n",
       "0             0     1          1.0 NaN  \n",
       "1             1     0          2.0 NaN  \n",
       "2             1     0          2.0 NaN  \n",
       "3             0     0          2.0 NaN  \n",
       "4             1     0          1.0 NaN  \n",
       "5             0     0          1.0 NaN  \n",
       "6             0     1          3.0 NaN  \n",
       "7             1     1          0.0 NaN  \n",
       "8             0     0          0.0 NaN  \n",
       "9             0     0          0.0 NaN  \n",
       "\n",
       "[10 rows x 22 columns]"
      ]
     },
     "execution_count": 2,
     "metadata": {},
     "output_type": "execute_result"
    }
   ],
   "source": [
    "#import datasets using filepath\n",
    "filepath_test = \"../input/mobile-price-classification/test.csv\"\n",
    "filepath_train = \"../input/mobile-price-classification/train.csv\"\n",
    "\n",
    "#assign datasets to variable\n",
    "train = pd.read_csv(filepath_train)\n",
    "test = pd.read_csv(filepath_test)\n",
    "\n",
    "#concatenate the two datasets into one\n",
    "data = pd.concat([train, test])\n",
    "\n",
    "#view the first 10 values of the data dataset\n",
    "data.head(10)"
   ]
  },
  {
   "cell_type": "code",
   "execution_count": 3,
   "metadata": {
    "execution": {
     "iopub.execute_input": "2020-11-15T14:14:32.702407Z",
     "iopub.status.busy": "2020-11-15T14:14:32.701348Z",
     "iopub.status.idle": "2020-11-15T14:14:32.706894Z",
     "shell.execute_reply": "2020-11-15T14:14:32.706101Z"
    },
    "papermill": {
     "duration": 0.079115,
     "end_time": "2020-11-15T14:14:32.707053",
     "exception": false,
     "start_time": "2020-11-15T14:14:32.627938",
     "status": "completed"
    },
    "tags": []
   },
   "outputs": [
    {
     "data": {
      "text/html": [
       "<div>\n",
       "<style scoped>\n",
       "    .dataframe tbody tr th:only-of-type {\n",
       "        vertical-align: middle;\n",
       "    }\n",
       "\n",
       "    .dataframe tbody tr th {\n",
       "        vertical-align: top;\n",
       "    }\n",
       "\n",
       "    .dataframe thead th {\n",
       "        text-align: right;\n",
       "    }\n",
       "</style>\n",
       "<table border=\"1\" class=\"dataframe\">\n",
       "  <thead>\n",
       "    <tr style=\"text-align: right;\">\n",
       "      <th></th>\n",
       "      <th>battery_power</th>\n",
       "      <th>blue</th>\n",
       "      <th>clock_speed</th>\n",
       "      <th>dual_sim</th>\n",
       "      <th>fc</th>\n",
       "      <th>four_g</th>\n",
       "      <th>int_memory</th>\n",
       "      <th>m_dep</th>\n",
       "      <th>mobile_wt</th>\n",
       "      <th>n_cores</th>\n",
       "      <th>...</th>\n",
       "      <th>px_height</th>\n",
       "      <th>px_width</th>\n",
       "      <th>ram</th>\n",
       "      <th>sc_h</th>\n",
       "      <th>sc_w</th>\n",
       "      <th>talk_time</th>\n",
       "      <th>three_g</th>\n",
       "      <th>touch_screen</th>\n",
       "      <th>wifi</th>\n",
       "      <th>price_range</th>\n",
       "    </tr>\n",
       "  </thead>\n",
       "  <tbody>\n",
       "    <tr>\n",
       "      <th>0</th>\n",
       "      <td>842</td>\n",
       "      <td>0</td>\n",
       "      <td>2.2</td>\n",
       "      <td>0</td>\n",
       "      <td>1</td>\n",
       "      <td>0</td>\n",
       "      <td>7</td>\n",
       "      <td>0.6</td>\n",
       "      <td>188</td>\n",
       "      <td>2</td>\n",
       "      <td>...</td>\n",
       "      <td>20</td>\n",
       "      <td>756</td>\n",
       "      <td>2549</td>\n",
       "      <td>9</td>\n",
       "      <td>7</td>\n",
       "      <td>19</td>\n",
       "      <td>0</td>\n",
       "      <td>0</td>\n",
       "      <td>1</td>\n",
       "      <td>1</td>\n",
       "    </tr>\n",
       "    <tr>\n",
       "      <th>1</th>\n",
       "      <td>1021</td>\n",
       "      <td>1</td>\n",
       "      <td>0.5</td>\n",
       "      <td>1</td>\n",
       "      <td>0</td>\n",
       "      <td>1</td>\n",
       "      <td>53</td>\n",
       "      <td>0.7</td>\n",
       "      <td>136</td>\n",
       "      <td>3</td>\n",
       "      <td>...</td>\n",
       "      <td>905</td>\n",
       "      <td>1988</td>\n",
       "      <td>2631</td>\n",
       "      <td>17</td>\n",
       "      <td>3</td>\n",
       "      <td>7</td>\n",
       "      <td>1</td>\n",
       "      <td>1</td>\n",
       "      <td>0</td>\n",
       "      <td>2</td>\n",
       "    </tr>\n",
       "    <tr>\n",
       "      <th>2</th>\n",
       "      <td>563</td>\n",
       "      <td>1</td>\n",
       "      <td>0.5</td>\n",
       "      <td>1</td>\n",
       "      <td>2</td>\n",
       "      <td>1</td>\n",
       "      <td>41</td>\n",
       "      <td>0.9</td>\n",
       "      <td>145</td>\n",
       "      <td>5</td>\n",
       "      <td>...</td>\n",
       "      <td>1263</td>\n",
       "      <td>1716</td>\n",
       "      <td>2603</td>\n",
       "      <td>11</td>\n",
       "      <td>2</td>\n",
       "      <td>9</td>\n",
       "      <td>1</td>\n",
       "      <td>1</td>\n",
       "      <td>0</td>\n",
       "      <td>2</td>\n",
       "    </tr>\n",
       "    <tr>\n",
       "      <th>3</th>\n",
       "      <td>615</td>\n",
       "      <td>1</td>\n",
       "      <td>2.5</td>\n",
       "      <td>0</td>\n",
       "      <td>0</td>\n",
       "      <td>0</td>\n",
       "      <td>10</td>\n",
       "      <td>0.8</td>\n",
       "      <td>131</td>\n",
       "      <td>6</td>\n",
       "      <td>...</td>\n",
       "      <td>1216</td>\n",
       "      <td>1786</td>\n",
       "      <td>2769</td>\n",
       "      <td>16</td>\n",
       "      <td>8</td>\n",
       "      <td>11</td>\n",
       "      <td>1</td>\n",
       "      <td>0</td>\n",
       "      <td>0</td>\n",
       "      <td>2</td>\n",
       "    </tr>\n",
       "    <tr>\n",
       "      <th>4</th>\n",
       "      <td>1821</td>\n",
       "      <td>1</td>\n",
       "      <td>1.2</td>\n",
       "      <td>0</td>\n",
       "      <td>13</td>\n",
       "      <td>1</td>\n",
       "      <td>44</td>\n",
       "      <td>0.6</td>\n",
       "      <td>141</td>\n",
       "      <td>2</td>\n",
       "      <td>...</td>\n",
       "      <td>1208</td>\n",
       "      <td>1212</td>\n",
       "      <td>1411</td>\n",
       "      <td>8</td>\n",
       "      <td>2</td>\n",
       "      <td>15</td>\n",
       "      <td>1</td>\n",
       "      <td>1</td>\n",
       "      <td>0</td>\n",
       "      <td>1</td>\n",
       "    </tr>\n",
       "    <tr>\n",
       "      <th>5</th>\n",
       "      <td>1859</td>\n",
       "      <td>0</td>\n",
       "      <td>0.5</td>\n",
       "      <td>1</td>\n",
       "      <td>3</td>\n",
       "      <td>0</td>\n",
       "      <td>22</td>\n",
       "      <td>0.7</td>\n",
       "      <td>164</td>\n",
       "      <td>1</td>\n",
       "      <td>...</td>\n",
       "      <td>1004</td>\n",
       "      <td>1654</td>\n",
       "      <td>1067</td>\n",
       "      <td>17</td>\n",
       "      <td>1</td>\n",
       "      <td>10</td>\n",
       "      <td>1</td>\n",
       "      <td>0</td>\n",
       "      <td>0</td>\n",
       "      <td>1</td>\n",
       "    </tr>\n",
       "    <tr>\n",
       "      <th>6</th>\n",
       "      <td>1821</td>\n",
       "      <td>0</td>\n",
       "      <td>1.7</td>\n",
       "      <td>0</td>\n",
       "      <td>4</td>\n",
       "      <td>1</td>\n",
       "      <td>10</td>\n",
       "      <td>0.8</td>\n",
       "      <td>139</td>\n",
       "      <td>8</td>\n",
       "      <td>...</td>\n",
       "      <td>381</td>\n",
       "      <td>1018</td>\n",
       "      <td>3220</td>\n",
       "      <td>13</td>\n",
       "      <td>8</td>\n",
       "      <td>18</td>\n",
       "      <td>1</td>\n",
       "      <td>0</td>\n",
       "      <td>1</td>\n",
       "      <td>3</td>\n",
       "    </tr>\n",
       "    <tr>\n",
       "      <th>7</th>\n",
       "      <td>1954</td>\n",
       "      <td>0</td>\n",
       "      <td>0.5</td>\n",
       "      <td>1</td>\n",
       "      <td>0</td>\n",
       "      <td>0</td>\n",
       "      <td>24</td>\n",
       "      <td>0.8</td>\n",
       "      <td>187</td>\n",
       "      <td>4</td>\n",
       "      <td>...</td>\n",
       "      <td>512</td>\n",
       "      <td>1149</td>\n",
       "      <td>700</td>\n",
       "      <td>16</td>\n",
       "      <td>3</td>\n",
       "      <td>5</td>\n",
       "      <td>1</td>\n",
       "      <td>1</td>\n",
       "      <td>1</td>\n",
       "      <td>0</td>\n",
       "    </tr>\n",
       "    <tr>\n",
       "      <th>8</th>\n",
       "      <td>1445</td>\n",
       "      <td>1</td>\n",
       "      <td>0.5</td>\n",
       "      <td>0</td>\n",
       "      <td>0</td>\n",
       "      <td>0</td>\n",
       "      <td>53</td>\n",
       "      <td>0.7</td>\n",
       "      <td>174</td>\n",
       "      <td>7</td>\n",
       "      <td>...</td>\n",
       "      <td>386</td>\n",
       "      <td>836</td>\n",
       "      <td>1099</td>\n",
       "      <td>17</td>\n",
       "      <td>1</td>\n",
       "      <td>20</td>\n",
       "      <td>1</td>\n",
       "      <td>0</td>\n",
       "      <td>0</td>\n",
       "      <td>0</td>\n",
       "    </tr>\n",
       "    <tr>\n",
       "      <th>9</th>\n",
       "      <td>509</td>\n",
       "      <td>1</td>\n",
       "      <td>0.6</td>\n",
       "      <td>1</td>\n",
       "      <td>2</td>\n",
       "      <td>1</td>\n",
       "      <td>9</td>\n",
       "      <td>0.1</td>\n",
       "      <td>93</td>\n",
       "      <td>5</td>\n",
       "      <td>...</td>\n",
       "      <td>1137</td>\n",
       "      <td>1224</td>\n",
       "      <td>513</td>\n",
       "      <td>19</td>\n",
       "      <td>10</td>\n",
       "      <td>12</td>\n",
       "      <td>1</td>\n",
       "      <td>0</td>\n",
       "      <td>0</td>\n",
       "      <td>0</td>\n",
       "    </tr>\n",
       "  </tbody>\n",
       "</table>\n",
       "<p>10 rows × 21 columns</p>\n",
       "</div>"
      ],
      "text/plain": [
       "   battery_power  blue  clock_speed  dual_sim  fc  four_g  int_memory  m_dep  \\\n",
       "0            842     0          2.2         0   1       0           7    0.6   \n",
       "1           1021     1          0.5         1   0       1          53    0.7   \n",
       "2            563     1          0.5         1   2       1          41    0.9   \n",
       "3            615     1          2.5         0   0       0          10    0.8   \n",
       "4           1821     1          1.2         0  13       1          44    0.6   \n",
       "5           1859     0          0.5         1   3       0          22    0.7   \n",
       "6           1821     0          1.7         0   4       1          10    0.8   \n",
       "7           1954     0          0.5         1   0       0          24    0.8   \n",
       "8           1445     1          0.5         0   0       0          53    0.7   \n",
       "9            509     1          0.6         1   2       1           9    0.1   \n",
       "\n",
       "   mobile_wt  n_cores  ...  px_height  px_width   ram  sc_h  sc_w  talk_time  \\\n",
       "0        188        2  ...         20       756  2549     9     7         19   \n",
       "1        136        3  ...        905      1988  2631    17     3          7   \n",
       "2        145        5  ...       1263      1716  2603    11     2          9   \n",
       "3        131        6  ...       1216      1786  2769    16     8         11   \n",
       "4        141        2  ...       1208      1212  1411     8     2         15   \n",
       "5        164        1  ...       1004      1654  1067    17     1         10   \n",
       "6        139        8  ...        381      1018  3220    13     8         18   \n",
       "7        187        4  ...        512      1149   700    16     3          5   \n",
       "8        174        7  ...        386       836  1099    17     1         20   \n",
       "9         93        5  ...       1137      1224   513    19    10         12   \n",
       "\n",
       "   three_g  touch_screen  wifi  price_range  \n",
       "0        0             0     1            1  \n",
       "1        1             1     0            2  \n",
       "2        1             1     0            2  \n",
       "3        1             0     0            2  \n",
       "4        1             1     0            1  \n",
       "5        1             0     0            1  \n",
       "6        1             0     1            3  \n",
       "7        1             1     1            0  \n",
       "8        1             0     0            0  \n",
       "9        1             0     0            0  \n",
       "\n",
       "[10 rows x 21 columns]"
      ]
     },
     "execution_count": 3,
     "metadata": {},
     "output_type": "execute_result"
    }
   ],
   "source": [
    "#view the first 10 values of the train dataset\n",
    "train.head(10)"
   ]
  },
  {
   "cell_type": "code",
   "execution_count": 4,
   "metadata": {
    "execution": {
     "iopub.execute_input": "2020-11-15T14:14:32.831989Z",
     "iopub.status.busy": "2020-11-15T14:14:32.829755Z",
     "iopub.status.idle": "2020-11-15T14:14:32.836976Z",
     "shell.execute_reply": "2020-11-15T14:14:32.836375Z"
    },
    "papermill": {
     "duration": 0.0744,
     "end_time": "2020-11-15T14:14:32.837096",
     "exception": false,
     "start_time": "2020-11-15T14:14:32.762696",
     "status": "completed"
    },
    "tags": []
   },
   "outputs": [
    {
     "data": {
      "text/html": [
       "<div>\n",
       "<style scoped>\n",
       "    .dataframe tbody tr th:only-of-type {\n",
       "        vertical-align: middle;\n",
       "    }\n",
       "\n",
       "    .dataframe tbody tr th {\n",
       "        vertical-align: top;\n",
       "    }\n",
       "\n",
       "    .dataframe thead th {\n",
       "        text-align: right;\n",
       "    }\n",
       "</style>\n",
       "<table border=\"1\" class=\"dataframe\">\n",
       "  <thead>\n",
       "    <tr style=\"text-align: right;\">\n",
       "      <th></th>\n",
       "      <th>id</th>\n",
       "      <th>battery_power</th>\n",
       "      <th>blue</th>\n",
       "      <th>clock_speed</th>\n",
       "      <th>dual_sim</th>\n",
       "      <th>fc</th>\n",
       "      <th>four_g</th>\n",
       "      <th>int_memory</th>\n",
       "      <th>m_dep</th>\n",
       "      <th>mobile_wt</th>\n",
       "      <th>...</th>\n",
       "      <th>pc</th>\n",
       "      <th>px_height</th>\n",
       "      <th>px_width</th>\n",
       "      <th>ram</th>\n",
       "      <th>sc_h</th>\n",
       "      <th>sc_w</th>\n",
       "      <th>talk_time</th>\n",
       "      <th>three_g</th>\n",
       "      <th>touch_screen</th>\n",
       "      <th>wifi</th>\n",
       "    </tr>\n",
       "  </thead>\n",
       "  <tbody>\n",
       "    <tr>\n",
       "      <th>0</th>\n",
       "      <td>1</td>\n",
       "      <td>1043</td>\n",
       "      <td>1</td>\n",
       "      <td>1.8</td>\n",
       "      <td>1</td>\n",
       "      <td>14</td>\n",
       "      <td>0</td>\n",
       "      <td>5</td>\n",
       "      <td>0.1</td>\n",
       "      <td>193</td>\n",
       "      <td>...</td>\n",
       "      <td>16</td>\n",
       "      <td>226</td>\n",
       "      <td>1412</td>\n",
       "      <td>3476</td>\n",
       "      <td>12</td>\n",
       "      <td>7</td>\n",
       "      <td>2</td>\n",
       "      <td>0</td>\n",
       "      <td>1</td>\n",
       "      <td>0</td>\n",
       "    </tr>\n",
       "    <tr>\n",
       "      <th>1</th>\n",
       "      <td>2</td>\n",
       "      <td>841</td>\n",
       "      <td>1</td>\n",
       "      <td>0.5</td>\n",
       "      <td>1</td>\n",
       "      <td>4</td>\n",
       "      <td>1</td>\n",
       "      <td>61</td>\n",
       "      <td>0.8</td>\n",
       "      <td>191</td>\n",
       "      <td>...</td>\n",
       "      <td>12</td>\n",
       "      <td>746</td>\n",
       "      <td>857</td>\n",
       "      <td>3895</td>\n",
       "      <td>6</td>\n",
       "      <td>0</td>\n",
       "      <td>7</td>\n",
       "      <td>1</td>\n",
       "      <td>0</td>\n",
       "      <td>0</td>\n",
       "    </tr>\n",
       "    <tr>\n",
       "      <th>2</th>\n",
       "      <td>3</td>\n",
       "      <td>1807</td>\n",
       "      <td>1</td>\n",
       "      <td>2.8</td>\n",
       "      <td>0</td>\n",
       "      <td>1</td>\n",
       "      <td>0</td>\n",
       "      <td>27</td>\n",
       "      <td>0.9</td>\n",
       "      <td>186</td>\n",
       "      <td>...</td>\n",
       "      <td>4</td>\n",
       "      <td>1270</td>\n",
       "      <td>1366</td>\n",
       "      <td>2396</td>\n",
       "      <td>17</td>\n",
       "      <td>10</td>\n",
       "      <td>10</td>\n",
       "      <td>0</td>\n",
       "      <td>1</td>\n",
       "      <td>1</td>\n",
       "    </tr>\n",
       "    <tr>\n",
       "      <th>3</th>\n",
       "      <td>4</td>\n",
       "      <td>1546</td>\n",
       "      <td>0</td>\n",
       "      <td>0.5</td>\n",
       "      <td>1</td>\n",
       "      <td>18</td>\n",
       "      <td>1</td>\n",
       "      <td>25</td>\n",
       "      <td>0.5</td>\n",
       "      <td>96</td>\n",
       "      <td>...</td>\n",
       "      <td>20</td>\n",
       "      <td>295</td>\n",
       "      <td>1752</td>\n",
       "      <td>3893</td>\n",
       "      <td>10</td>\n",
       "      <td>0</td>\n",
       "      <td>7</td>\n",
       "      <td>1</td>\n",
       "      <td>1</td>\n",
       "      <td>0</td>\n",
       "    </tr>\n",
       "    <tr>\n",
       "      <th>4</th>\n",
       "      <td>5</td>\n",
       "      <td>1434</td>\n",
       "      <td>0</td>\n",
       "      <td>1.4</td>\n",
       "      <td>0</td>\n",
       "      <td>11</td>\n",
       "      <td>1</td>\n",
       "      <td>49</td>\n",
       "      <td>0.5</td>\n",
       "      <td>108</td>\n",
       "      <td>...</td>\n",
       "      <td>18</td>\n",
       "      <td>749</td>\n",
       "      <td>810</td>\n",
       "      <td>1773</td>\n",
       "      <td>15</td>\n",
       "      <td>8</td>\n",
       "      <td>7</td>\n",
       "      <td>1</td>\n",
       "      <td>0</td>\n",
       "      <td>1</td>\n",
       "    </tr>\n",
       "    <tr>\n",
       "      <th>5</th>\n",
       "      <td>6</td>\n",
       "      <td>1464</td>\n",
       "      <td>1</td>\n",
       "      <td>2.9</td>\n",
       "      <td>1</td>\n",
       "      <td>5</td>\n",
       "      <td>1</td>\n",
       "      <td>50</td>\n",
       "      <td>0.8</td>\n",
       "      <td>198</td>\n",
       "      <td>...</td>\n",
       "      <td>9</td>\n",
       "      <td>569</td>\n",
       "      <td>939</td>\n",
       "      <td>3506</td>\n",
       "      <td>10</td>\n",
       "      <td>7</td>\n",
       "      <td>3</td>\n",
       "      <td>1</td>\n",
       "      <td>1</td>\n",
       "      <td>1</td>\n",
       "    </tr>\n",
       "    <tr>\n",
       "      <th>6</th>\n",
       "      <td>7</td>\n",
       "      <td>1718</td>\n",
       "      <td>0</td>\n",
       "      <td>2.4</td>\n",
       "      <td>0</td>\n",
       "      <td>1</td>\n",
       "      <td>0</td>\n",
       "      <td>47</td>\n",
       "      <td>1.0</td>\n",
       "      <td>156</td>\n",
       "      <td>...</td>\n",
       "      <td>3</td>\n",
       "      <td>1283</td>\n",
       "      <td>1374</td>\n",
       "      <td>3873</td>\n",
       "      <td>14</td>\n",
       "      <td>2</td>\n",
       "      <td>10</td>\n",
       "      <td>0</td>\n",
       "      <td>0</td>\n",
       "      <td>0</td>\n",
       "    </tr>\n",
       "    <tr>\n",
       "      <th>7</th>\n",
       "      <td>8</td>\n",
       "      <td>833</td>\n",
       "      <td>0</td>\n",
       "      <td>2.4</td>\n",
       "      <td>1</td>\n",
       "      <td>0</td>\n",
       "      <td>0</td>\n",
       "      <td>62</td>\n",
       "      <td>0.8</td>\n",
       "      <td>111</td>\n",
       "      <td>...</td>\n",
       "      <td>2</td>\n",
       "      <td>1312</td>\n",
       "      <td>1880</td>\n",
       "      <td>1495</td>\n",
       "      <td>7</td>\n",
       "      <td>2</td>\n",
       "      <td>18</td>\n",
       "      <td>0</td>\n",
       "      <td>1</td>\n",
       "      <td>1</td>\n",
       "    </tr>\n",
       "    <tr>\n",
       "      <th>8</th>\n",
       "      <td>9</td>\n",
       "      <td>1111</td>\n",
       "      <td>1</td>\n",
       "      <td>2.9</td>\n",
       "      <td>1</td>\n",
       "      <td>9</td>\n",
       "      <td>1</td>\n",
       "      <td>25</td>\n",
       "      <td>0.6</td>\n",
       "      <td>101</td>\n",
       "      <td>...</td>\n",
       "      <td>19</td>\n",
       "      <td>556</td>\n",
       "      <td>876</td>\n",
       "      <td>3485</td>\n",
       "      <td>11</td>\n",
       "      <td>9</td>\n",
       "      <td>10</td>\n",
       "      <td>1</td>\n",
       "      <td>1</td>\n",
       "      <td>0</td>\n",
       "    </tr>\n",
       "    <tr>\n",
       "      <th>9</th>\n",
       "      <td>10</td>\n",
       "      <td>1520</td>\n",
       "      <td>0</td>\n",
       "      <td>0.5</td>\n",
       "      <td>0</td>\n",
       "      <td>1</td>\n",
       "      <td>0</td>\n",
       "      <td>25</td>\n",
       "      <td>0.5</td>\n",
       "      <td>171</td>\n",
       "      <td>...</td>\n",
       "      <td>20</td>\n",
       "      <td>52</td>\n",
       "      <td>1009</td>\n",
       "      <td>651</td>\n",
       "      <td>6</td>\n",
       "      <td>0</td>\n",
       "      <td>5</td>\n",
       "      <td>1</td>\n",
       "      <td>0</td>\n",
       "      <td>1</td>\n",
       "    </tr>\n",
       "  </tbody>\n",
       "</table>\n",
       "<p>10 rows × 21 columns</p>\n",
       "</div>"
      ],
      "text/plain": [
       "   id  battery_power  blue  clock_speed  dual_sim  fc  four_g  int_memory  \\\n",
       "0   1           1043     1          1.8         1  14       0           5   \n",
       "1   2            841     1          0.5         1   4       1          61   \n",
       "2   3           1807     1          2.8         0   1       0          27   \n",
       "3   4           1546     0          0.5         1  18       1          25   \n",
       "4   5           1434     0          1.4         0  11       1          49   \n",
       "5   6           1464     1          2.9         1   5       1          50   \n",
       "6   7           1718     0          2.4         0   1       0          47   \n",
       "7   8            833     0          2.4         1   0       0          62   \n",
       "8   9           1111     1          2.9         1   9       1          25   \n",
       "9  10           1520     0          0.5         0   1       0          25   \n",
       "\n",
       "   m_dep  mobile_wt  ...  pc  px_height  px_width   ram  sc_h  sc_w  \\\n",
       "0    0.1        193  ...  16        226      1412  3476    12     7   \n",
       "1    0.8        191  ...  12        746       857  3895     6     0   \n",
       "2    0.9        186  ...   4       1270      1366  2396    17    10   \n",
       "3    0.5         96  ...  20        295      1752  3893    10     0   \n",
       "4    0.5        108  ...  18        749       810  1773    15     8   \n",
       "5    0.8        198  ...   9        569       939  3506    10     7   \n",
       "6    1.0        156  ...   3       1283      1374  3873    14     2   \n",
       "7    0.8        111  ...   2       1312      1880  1495     7     2   \n",
       "8    0.6        101  ...  19        556       876  3485    11     9   \n",
       "9    0.5        171  ...  20         52      1009   651     6     0   \n",
       "\n",
       "   talk_time  three_g  touch_screen  wifi  \n",
       "0          2        0             1     0  \n",
       "1          7        1             0     0  \n",
       "2         10        0             1     1  \n",
       "3          7        1             1     0  \n",
       "4          7        1             0     1  \n",
       "5          3        1             1     1  \n",
       "6         10        0             0     0  \n",
       "7         18        0             1     1  \n",
       "8         10        1             1     0  \n",
       "9          5        1             0     1  \n",
       "\n",
       "[10 rows x 21 columns]"
      ]
     },
     "execution_count": 4,
     "metadata": {},
     "output_type": "execute_result"
    }
   ],
   "source": [
    "#view the first 10 values of the test dataset\n",
    "test.head(10)"
   ]
  },
  {
   "cell_type": "markdown",
   "metadata": {
    "papermill": {
     "duration": 0.040673,
     "end_time": "2020-11-15T14:14:32.918740",
     "exception": false,
     "start_time": "2020-11-15T14:14:32.878067",
     "status": "completed"
    },
    "tags": []
   },
   "source": [
    "We have successfully completed importing the libraries and the datasets. Now it is time for a bit of data cleaning. "
   ]
  },
  {
   "cell_type": "markdown",
   "metadata": {
    "papermill": {
     "duration": 0.040537,
     "end_time": "2020-11-15T14:14:33.000935",
     "exception": false,
     "start_time": "2020-11-15T14:14:32.960398",
     "status": "completed"
    },
    "tags": []
   },
   "source": [
    "### Data Wrangling / Cleaning"
   ]
  },
  {
   "cell_type": "markdown",
   "metadata": {
    "papermill": {
     "duration": 0.040527,
     "end_time": "2020-11-15T14:14:33.082586",
     "exception": false,
     "start_time": "2020-11-15T14:14:33.042059",
     "status": "completed"
    },
    "tags": []
   },
   "source": [
    "This is a relatively big dataset, at least in terms of columns. Not all columns are visible to us (denoted by the 3 dots in the middle of the dataset) and therefore we will not be able to accurately clean data unless we know the columns that are present in the dataset. \n",
    "\n",
    "Hence, we first start off by looking at the list of columns in the dataset. "
   ]
  },
  {
   "cell_type": "code",
   "execution_count": 5,
   "metadata": {
    "execution": {
     "iopub.execute_input": "2020-11-15T14:14:33.169983Z",
     "iopub.status.busy": "2020-11-15T14:14:33.168915Z",
     "iopub.status.idle": "2020-11-15T14:14:33.173593Z",
     "shell.execute_reply": "2020-11-15T14:14:33.172847Z"
    },
    "papermill": {
     "duration": 0.050778,
     "end_time": "2020-11-15T14:14:33.173719",
     "exception": false,
     "start_time": "2020-11-15T14:14:33.122941",
     "status": "completed"
    },
    "tags": []
   },
   "outputs": [
    {
     "data": {
      "text/plain": [
       "Index(['battery_power', 'blue', 'clock_speed', 'dual_sim', 'fc', 'four_g',\n",
       "       'int_memory', 'm_dep', 'mobile_wt', 'n_cores', 'pc', 'px_height',\n",
       "       'px_width', 'ram', 'sc_h', 'sc_w', 'talk_time', 'three_g',\n",
       "       'touch_screen', 'wifi', 'price_range', 'id'],\n",
       "      dtype='object')"
      ]
     },
     "execution_count": 5,
     "metadata": {},
     "output_type": "execute_result"
    }
   ],
   "source": [
    "data.columns"
   ]
  },
  {
   "cell_type": "markdown",
   "metadata": {
    "papermill": {
     "duration": 0.041084,
     "end_time": "2020-11-15T14:14:33.256233",
     "exception": false,
     "start_time": "2020-11-15T14:14:33.215149",
     "status": "completed"
    },
    "tags": []
   },
   "source": [
    "The columns that are represented in the dataset have the following meaning - \n",
    "* **battery_power**: Total energy a battery can store in one time (in mAh)\n",
    "* **blue**: Has bluetooth or not\n",
    "* **clock_speed**: speed at which microprocessor executes instructions\n",
    "* **dual_sim**: Has dual sim support or not\n",
    "* **fc**: Front Camera Resolution (in mp)\n",
    "* **four_g**: Has 4G or not\n",
    "* **int_memory**: Internal Memory (in GB)\n",
    "* **m_dep**: Mobile Depth in cm\n",
    "* **mobile_wt**: Weight of mobile phone\n",
    "* **n_cores**: Number of Processing Cores\n",
    "* **pc**: Primary Camera Resolution (in mp)\n",
    "* **px_height**: Pixel Resolution Height\n",
    "* **px_width**: Pixel Resolution Width\n",
    "* **ram**: Random Access Memory (in MB)\n",
    "* **sc_h**: Screen Height of mobile (in cm)\n",
    "* **sc_w**: Screen Width of mobile (in cm)\n",
    "* **talk_time**: longest time that a single battery charge will last when you are\n",
    "* **three_g**: Has 3G or not\n",
    "* **touch_screen**: Has touch screen or not\n",
    "* **wifi**: Has wifi or not\n",
    "* **price_range**: This is the target variable with value of 0(low cost), 1(medium cost), 2(high cost) and 3(very high cost)."
   ]
  },
  {
   "cell_type": "markdown",
   "metadata": {
    "papermill": {
     "duration": 0.042006,
     "end_time": "2020-11-15T14:14:33.339336",
     "exception": false,
     "start_time": "2020-11-15T14:14:33.297330",
     "status": "completed"
    },
    "tags": []
   },
   "source": [
    "In order to make sure that all the values present in the dataset are of a numeric or integer nature, we will convert the entire data to a nueric datatype. \n",
    "\n",
    "We will follow that up by removing columns that are of no use to us - 'm_dep', 'mobile_wt', 'px_height', 'px_width', 'three_g', 'n_cores', 'talk_time'"
   ]
  },
  {
   "cell_type": "code",
   "execution_count": 6,
   "metadata": {
    "execution": {
     "iopub.execute_input": "2020-11-15T14:14:33.432191Z",
     "iopub.status.busy": "2020-11-15T14:14:33.431370Z",
     "iopub.status.idle": "2020-11-15T14:14:33.688900Z",
     "shell.execute_reply": "2020-11-15T14:14:33.688301Z"
    },
    "papermill": {
     "duration": 0.306971,
     "end_time": "2020-11-15T14:14:33.689025",
     "exception": false,
     "start_time": "2020-11-15T14:14:33.382054",
     "status": "completed"
    },
    "tags": []
   },
   "outputs": [
    {
     "data": {
      "text/html": [
       "<div>\n",
       "<style scoped>\n",
       "    .dataframe tbody tr th:only-of-type {\n",
       "        vertical-align: middle;\n",
       "    }\n",
       "\n",
       "    .dataframe tbody tr th {\n",
       "        vertical-align: top;\n",
       "    }\n",
       "\n",
       "    .dataframe thead th {\n",
       "        text-align: right;\n",
       "    }\n",
       "</style>\n",
       "<table border=\"1\" class=\"dataframe\">\n",
       "  <thead>\n",
       "    <tr style=\"text-align: right;\">\n",
       "      <th></th>\n",
       "      <th>battery_power</th>\n",
       "      <th>blue</th>\n",
       "      <th>clock_speed</th>\n",
       "      <th>dual_sim</th>\n",
       "      <th>fc</th>\n",
       "      <th>four_g</th>\n",
       "      <th>int_memory</th>\n",
       "      <th>pc</th>\n",
       "      <th>ram</th>\n",
       "      <th>sc_h</th>\n",
       "      <th>sc_w</th>\n",
       "      <th>three_g</th>\n",
       "      <th>touch_screen</th>\n",
       "      <th>wifi</th>\n",
       "      <th>price_range</th>\n",
       "    </tr>\n",
       "  </thead>\n",
       "  <tbody>\n",
       "    <tr>\n",
       "      <th>0</th>\n",
       "      <td>842.0</td>\n",
       "      <td>0.0</td>\n",
       "      <td>2.2</td>\n",
       "      <td>0.0</td>\n",
       "      <td>1.0</td>\n",
       "      <td>0.0</td>\n",
       "      <td>7.0</td>\n",
       "      <td>2.0</td>\n",
       "      <td>2549.0</td>\n",
       "      <td>9.0</td>\n",
       "      <td>7.0</td>\n",
       "      <td>0.0</td>\n",
       "      <td>0.0</td>\n",
       "      <td>1.0</td>\n",
       "      <td>1.0</td>\n",
       "    </tr>\n",
       "    <tr>\n",
       "      <th>1</th>\n",
       "      <td>1021.0</td>\n",
       "      <td>1.0</td>\n",
       "      <td>0.5</td>\n",
       "      <td>1.0</td>\n",
       "      <td>0.0</td>\n",
       "      <td>1.0</td>\n",
       "      <td>53.0</td>\n",
       "      <td>6.0</td>\n",
       "      <td>2631.0</td>\n",
       "      <td>17.0</td>\n",
       "      <td>3.0</td>\n",
       "      <td>1.0</td>\n",
       "      <td>1.0</td>\n",
       "      <td>0.0</td>\n",
       "      <td>2.0</td>\n",
       "    </tr>\n",
       "    <tr>\n",
       "      <th>2</th>\n",
       "      <td>563.0</td>\n",
       "      <td>1.0</td>\n",
       "      <td>0.5</td>\n",
       "      <td>1.0</td>\n",
       "      <td>2.0</td>\n",
       "      <td>1.0</td>\n",
       "      <td>41.0</td>\n",
       "      <td>6.0</td>\n",
       "      <td>2603.0</td>\n",
       "      <td>11.0</td>\n",
       "      <td>2.0</td>\n",
       "      <td>1.0</td>\n",
       "      <td>1.0</td>\n",
       "      <td>0.0</td>\n",
       "      <td>2.0</td>\n",
       "    </tr>\n",
       "    <tr>\n",
       "      <th>3</th>\n",
       "      <td>615.0</td>\n",
       "      <td>1.0</td>\n",
       "      <td>2.5</td>\n",
       "      <td>0.0</td>\n",
       "      <td>0.0</td>\n",
       "      <td>0.0</td>\n",
       "      <td>10.0</td>\n",
       "      <td>9.0</td>\n",
       "      <td>2769.0</td>\n",
       "      <td>16.0</td>\n",
       "      <td>8.0</td>\n",
       "      <td>1.0</td>\n",
       "      <td>0.0</td>\n",
       "      <td>0.0</td>\n",
       "      <td>2.0</td>\n",
       "    </tr>\n",
       "    <tr>\n",
       "      <th>4</th>\n",
       "      <td>1821.0</td>\n",
       "      <td>1.0</td>\n",
       "      <td>1.2</td>\n",
       "      <td>0.0</td>\n",
       "      <td>13.0</td>\n",
       "      <td>1.0</td>\n",
       "      <td>44.0</td>\n",
       "      <td>14.0</td>\n",
       "      <td>1411.0</td>\n",
       "      <td>8.0</td>\n",
       "      <td>2.0</td>\n",
       "      <td>1.0</td>\n",
       "      <td>1.0</td>\n",
       "      <td>0.0</td>\n",
       "      <td>1.0</td>\n",
       "    </tr>\n",
       "    <tr>\n",
       "      <th>...</th>\n",
       "      <td>...</td>\n",
       "      <td>...</td>\n",
       "      <td>...</td>\n",
       "      <td>...</td>\n",
       "      <td>...</td>\n",
       "      <td>...</td>\n",
       "      <td>...</td>\n",
       "      <td>...</td>\n",
       "      <td>...</td>\n",
       "      <td>...</td>\n",
       "      <td>...</td>\n",
       "      <td>...</td>\n",
       "      <td>...</td>\n",
       "      <td>...</td>\n",
       "      <td>...</td>\n",
       "    </tr>\n",
       "    <tr>\n",
       "      <th>1995</th>\n",
       "      <td>794.0</td>\n",
       "      <td>1.0</td>\n",
       "      <td>0.5</td>\n",
       "      <td>1.0</td>\n",
       "      <td>0.0</td>\n",
       "      <td>1.0</td>\n",
       "      <td>2.0</td>\n",
       "      <td>14.0</td>\n",
       "      <td>668.0</td>\n",
       "      <td>13.0</td>\n",
       "      <td>4.0</td>\n",
       "      <td>1.0</td>\n",
       "      <td>1.0</td>\n",
       "      <td>0.0</td>\n",
       "      <td>0.0</td>\n",
       "    </tr>\n",
       "    <tr>\n",
       "      <th>1996</th>\n",
       "      <td>1965.0</td>\n",
       "      <td>1.0</td>\n",
       "      <td>2.6</td>\n",
       "      <td>1.0</td>\n",
       "      <td>0.0</td>\n",
       "      <td>0.0</td>\n",
       "      <td>39.0</td>\n",
       "      <td>3.0</td>\n",
       "      <td>2032.0</td>\n",
       "      <td>11.0</td>\n",
       "      <td>10.0</td>\n",
       "      <td>1.0</td>\n",
       "      <td>1.0</td>\n",
       "      <td>1.0</td>\n",
       "      <td>2.0</td>\n",
       "    </tr>\n",
       "    <tr>\n",
       "      <th>1997</th>\n",
       "      <td>1911.0</td>\n",
       "      <td>0.0</td>\n",
       "      <td>0.9</td>\n",
       "      <td>1.0</td>\n",
       "      <td>1.0</td>\n",
       "      <td>1.0</td>\n",
       "      <td>36.0</td>\n",
       "      <td>3.0</td>\n",
       "      <td>3057.0</td>\n",
       "      <td>9.0</td>\n",
       "      <td>1.0</td>\n",
       "      <td>1.0</td>\n",
       "      <td>1.0</td>\n",
       "      <td>0.0</td>\n",
       "      <td>3.0</td>\n",
       "    </tr>\n",
       "    <tr>\n",
       "      <th>1998</th>\n",
       "      <td>1512.0</td>\n",
       "      <td>0.0</td>\n",
       "      <td>0.9</td>\n",
       "      <td>0.0</td>\n",
       "      <td>4.0</td>\n",
       "      <td>1.0</td>\n",
       "      <td>46.0</td>\n",
       "      <td>5.0</td>\n",
       "      <td>869.0</td>\n",
       "      <td>18.0</td>\n",
       "      <td>10.0</td>\n",
       "      <td>1.0</td>\n",
       "      <td>1.0</td>\n",
       "      <td>1.0</td>\n",
       "      <td>0.0</td>\n",
       "    </tr>\n",
       "    <tr>\n",
       "      <th>1999</th>\n",
       "      <td>510.0</td>\n",
       "      <td>1.0</td>\n",
       "      <td>2.0</td>\n",
       "      <td>1.0</td>\n",
       "      <td>5.0</td>\n",
       "      <td>1.0</td>\n",
       "      <td>45.0</td>\n",
       "      <td>16.0</td>\n",
       "      <td>3919.0</td>\n",
       "      <td>19.0</td>\n",
       "      <td>4.0</td>\n",
       "      <td>1.0</td>\n",
       "      <td>1.0</td>\n",
       "      <td>1.0</td>\n",
       "      <td>3.0</td>\n",
       "    </tr>\n",
       "  </tbody>\n",
       "</table>\n",
       "<p>2000 rows × 15 columns</p>\n",
       "</div>"
      ],
      "text/plain": [
       "      battery_power  blue  clock_speed  dual_sim    fc  four_g  int_memory  \\\n",
       "0             842.0   0.0          2.2       0.0   1.0     0.0         7.0   \n",
       "1            1021.0   1.0          0.5       1.0   0.0     1.0        53.0   \n",
       "2             563.0   1.0          0.5       1.0   2.0     1.0        41.0   \n",
       "3             615.0   1.0          2.5       0.0   0.0     0.0        10.0   \n",
       "4            1821.0   1.0          1.2       0.0  13.0     1.0        44.0   \n",
       "...             ...   ...          ...       ...   ...     ...         ...   \n",
       "1995          794.0   1.0          0.5       1.0   0.0     1.0         2.0   \n",
       "1996         1965.0   1.0          2.6       1.0   0.0     0.0        39.0   \n",
       "1997         1911.0   0.0          0.9       1.0   1.0     1.0        36.0   \n",
       "1998         1512.0   0.0          0.9       0.0   4.0     1.0        46.0   \n",
       "1999          510.0   1.0          2.0       1.0   5.0     1.0        45.0   \n",
       "\n",
       "        pc     ram  sc_h  sc_w  three_g  touch_screen  wifi  price_range  \n",
       "0      2.0  2549.0   9.0   7.0      0.0           0.0   1.0          1.0  \n",
       "1      6.0  2631.0  17.0   3.0      1.0           1.0   0.0          2.0  \n",
       "2      6.0  2603.0  11.0   2.0      1.0           1.0   0.0          2.0  \n",
       "3      9.0  2769.0  16.0   8.0      1.0           0.0   0.0          2.0  \n",
       "4     14.0  1411.0   8.0   2.0      1.0           1.0   0.0          1.0  \n",
       "...    ...     ...   ...   ...      ...           ...   ...          ...  \n",
       "1995  14.0   668.0  13.0   4.0      1.0           1.0   0.0          0.0  \n",
       "1996   3.0  2032.0  11.0  10.0      1.0           1.0   1.0          2.0  \n",
       "1997   3.0  3057.0   9.0   1.0      1.0           1.0   0.0          3.0  \n",
       "1998   5.0   869.0  18.0  10.0      1.0           1.0   1.0          0.0  \n",
       "1999  16.0  3919.0  19.0   4.0      1.0           1.0   1.0          3.0  \n",
       "\n",
       "[2000 rows x 15 columns]"
      ]
     },
     "execution_count": 6,
     "metadata": {},
     "output_type": "execute_result"
    }
   ],
   "source": [
    "# to convert to numeric datatype\n",
    "cols = ['battery_power', 'blue', 'clock_speed', 'dual_sim', 'fc', 'four_g', 'int_memory', 'm_dep', 'mobile_wt', 'n_cores', 'pc', 'px_height', 'px_width', 'ram', 'sc_h', 'sc_w', 'talk_time', 'three_g','touch_screen', 'wifi', 'price_range']\n",
    "train[cols] = train[cols].apply(pd.to_numeric, errors='coerce', axis=1)\n",
    "\n",
    "# remove columns from dataset\n",
    "train = train.drop(['m_dep', 'mobile_wt', 'px_height', 'px_width', 'n_cores', 'talk_time'], axis=1)\n",
    "train"
   ]
  },
  {
   "cell_type": "markdown",
   "metadata": {
    "papermill": {
     "duration": 0.041614,
     "end_time": "2020-11-15T14:14:33.772664",
     "exception": false,
     "start_time": "2020-11-15T14:14:33.731050",
     "status": "completed"
    },
    "tags": []
   },
   "source": [
    "We have two columns to denote the size of the phone - screen height and screen width. We can use these two columns to present the size of the phone as a singular value. \n",
    "\n",
    "Phone screen size is usually measured in a diagonal fashion, and so we can do the same in this case. \n",
    "\n",
    "Now that we know the height and width of the phone, we can simply use a bit of Pythagoras Theorem in order to calculate the value of the diagonal. \n",
    "\n",
    "diagonal^2 = height^2 + width^2"
   ]
  },
  {
   "cell_type": "code",
   "execution_count": 7,
   "metadata": {
    "execution": {
     "iopub.execute_input": "2020-11-15T14:14:33.862654Z",
     "iopub.status.busy": "2020-11-15T14:14:33.861974Z",
     "iopub.status.idle": "2020-11-15T14:14:33.906995Z",
     "shell.execute_reply": "2020-11-15T14:14:33.906259Z"
    },
    "papermill": {
     "duration": 0.092264,
     "end_time": "2020-11-15T14:14:33.907118",
     "exception": false,
     "start_time": "2020-11-15T14:14:33.814854",
     "status": "completed"
    },
    "tags": []
   },
   "outputs": [
    {
     "data": {
      "text/html": [
       "<div>\n",
       "<style scoped>\n",
       "    .dataframe tbody tr th:only-of-type {\n",
       "        vertical-align: middle;\n",
       "    }\n",
       "\n",
       "    .dataframe tbody tr th {\n",
       "        vertical-align: top;\n",
       "    }\n",
       "\n",
       "    .dataframe thead th {\n",
       "        text-align: right;\n",
       "    }\n",
       "</style>\n",
       "<table border=\"1\" class=\"dataframe\">\n",
       "  <thead>\n",
       "    <tr style=\"text-align: right;\">\n",
       "      <th></th>\n",
       "      <th>battery_power</th>\n",
       "      <th>blue</th>\n",
       "      <th>clock_speed</th>\n",
       "      <th>dual_sim</th>\n",
       "      <th>fc</th>\n",
       "      <th>four_g</th>\n",
       "      <th>int_memory</th>\n",
       "      <th>pc</th>\n",
       "      <th>ram</th>\n",
       "      <th>sc_h</th>\n",
       "      <th>sc_w</th>\n",
       "      <th>three_g</th>\n",
       "      <th>touch_screen</th>\n",
       "      <th>wifi</th>\n",
       "      <th>price_range</th>\n",
       "      <th>ph_size</th>\n",
       "    </tr>\n",
       "  </thead>\n",
       "  <tbody>\n",
       "    <tr>\n",
       "      <th>0</th>\n",
       "      <td>842.0</td>\n",
       "      <td>0.0</td>\n",
       "      <td>2.2</td>\n",
       "      <td>0.0</td>\n",
       "      <td>1.0</td>\n",
       "      <td>0.0</td>\n",
       "      <td>7.0</td>\n",
       "      <td>2.0</td>\n",
       "      <td>2549.0</td>\n",
       "      <td>9.0</td>\n",
       "      <td>7.0</td>\n",
       "      <td>0.0</td>\n",
       "      <td>0.0</td>\n",
       "      <td>1.0</td>\n",
       "      <td>1.0</td>\n",
       "      <td>11.4</td>\n",
       "    </tr>\n",
       "    <tr>\n",
       "      <th>1</th>\n",
       "      <td>1021.0</td>\n",
       "      <td>1.0</td>\n",
       "      <td>0.5</td>\n",
       "      <td>1.0</td>\n",
       "      <td>0.0</td>\n",
       "      <td>1.0</td>\n",
       "      <td>53.0</td>\n",
       "      <td>6.0</td>\n",
       "      <td>2631.0</td>\n",
       "      <td>17.0</td>\n",
       "      <td>3.0</td>\n",
       "      <td>1.0</td>\n",
       "      <td>1.0</td>\n",
       "      <td>0.0</td>\n",
       "      <td>2.0</td>\n",
       "      <td>17.3</td>\n",
       "    </tr>\n",
       "    <tr>\n",
       "      <th>2</th>\n",
       "      <td>563.0</td>\n",
       "      <td>1.0</td>\n",
       "      <td>0.5</td>\n",
       "      <td>1.0</td>\n",
       "      <td>2.0</td>\n",
       "      <td>1.0</td>\n",
       "      <td>41.0</td>\n",
       "      <td>6.0</td>\n",
       "      <td>2603.0</td>\n",
       "      <td>11.0</td>\n",
       "      <td>2.0</td>\n",
       "      <td>1.0</td>\n",
       "      <td>1.0</td>\n",
       "      <td>0.0</td>\n",
       "      <td>2.0</td>\n",
       "      <td>11.2</td>\n",
       "    </tr>\n",
       "    <tr>\n",
       "      <th>3</th>\n",
       "      <td>615.0</td>\n",
       "      <td>1.0</td>\n",
       "      <td>2.5</td>\n",
       "      <td>0.0</td>\n",
       "      <td>0.0</td>\n",
       "      <td>0.0</td>\n",
       "      <td>10.0</td>\n",
       "      <td>9.0</td>\n",
       "      <td>2769.0</td>\n",
       "      <td>16.0</td>\n",
       "      <td>8.0</td>\n",
       "      <td>1.0</td>\n",
       "      <td>0.0</td>\n",
       "      <td>0.0</td>\n",
       "      <td>2.0</td>\n",
       "      <td>17.9</td>\n",
       "    </tr>\n",
       "    <tr>\n",
       "      <th>4</th>\n",
       "      <td>1821.0</td>\n",
       "      <td>1.0</td>\n",
       "      <td>1.2</td>\n",
       "      <td>0.0</td>\n",
       "      <td>13.0</td>\n",
       "      <td>1.0</td>\n",
       "      <td>44.0</td>\n",
       "      <td>14.0</td>\n",
       "      <td>1411.0</td>\n",
       "      <td>8.0</td>\n",
       "      <td>2.0</td>\n",
       "      <td>1.0</td>\n",
       "      <td>1.0</td>\n",
       "      <td>0.0</td>\n",
       "      <td>1.0</td>\n",
       "      <td>8.2</td>\n",
       "    </tr>\n",
       "  </tbody>\n",
       "</table>\n",
       "</div>"
      ],
      "text/plain": [
       "   battery_power  blue  clock_speed  dual_sim    fc  four_g  int_memory    pc  \\\n",
       "0          842.0   0.0          2.2       0.0   1.0     0.0         7.0   2.0   \n",
       "1         1021.0   1.0          0.5       1.0   0.0     1.0        53.0   6.0   \n",
       "2          563.0   1.0          0.5       1.0   2.0     1.0        41.0   6.0   \n",
       "3          615.0   1.0          2.5       0.0   0.0     0.0        10.0   9.0   \n",
       "4         1821.0   1.0          1.2       0.0  13.0     1.0        44.0  14.0   \n",
       "\n",
       "      ram  sc_h  sc_w  three_g  touch_screen  wifi  price_range  ph_size  \n",
       "0  2549.0   9.0   7.0      0.0           0.0   1.0          1.0     11.4  \n",
       "1  2631.0  17.0   3.0      1.0           1.0   0.0          2.0     17.3  \n",
       "2  2603.0  11.0   2.0      1.0           1.0   0.0          2.0     11.2  \n",
       "3  2769.0  16.0   8.0      1.0           0.0   0.0          2.0     17.9  \n",
       "4  1411.0   8.0   2.0      1.0           1.0   0.0          1.0      8.2  "
      ]
     },
     "execution_count": 7,
     "metadata": {},
     "output_type": "execute_result"
    }
   ],
   "source": [
    "#to calculate the diagonal size of the phone\n",
    "train['ph_size'] = np.sqrt(train[\"sc_h\"]**2 + train[\"sc_w\"]**2)\n",
    "train['ph_size'] = train['ph_size'].round(decimals=1)\n",
    "train.head()"
   ]
  },
  {
   "cell_type": "markdown",
   "metadata": {
    "papermill": {
     "duration": 0.041959,
     "end_time": "2020-11-15T14:14:33.992243",
     "exception": false,
     "start_time": "2020-11-15T14:14:33.950284",
     "status": "completed"
    },
    "tags": []
   },
   "source": [
    "The data that is present in the dataset is spread across various limits, some going as high as 2000 and beyond. This would make it difficult to get an accurate prediction, hence a lesser rate of success. \n",
    "\n",
    "We can start off by bringing all the values in each individual dataset column within a range. Since we already have a range reference with the price, we know that in order to create a range for each column, we need to group the individual columns within 4 divisions. \n",
    "\n",
    "Certain columns have used 0 and 1 in order to present a 'Yes' and 'No' type valuation. These columns will be left as they are. \n",
    "\n",
    "These ranges are going to be extremely important for both **data visualization** and **machine learning**. "
   ]
  },
  {
   "cell_type": "code",
   "execution_count": 8,
   "metadata": {
    "execution": {
     "iopub.execute_input": "2020-11-15T14:14:34.096961Z",
     "iopub.status.busy": "2020-11-15T14:14:34.095855Z",
     "iopub.status.idle": "2020-11-15T14:14:34.188009Z",
     "shell.execute_reply": "2020-11-15T14:14:34.187086Z"
    },
    "papermill": {
     "duration": 0.153438,
     "end_time": "2020-11-15T14:14:34.188189",
     "exception": false,
     "start_time": "2020-11-15T14:14:34.034751",
     "status": "completed"
    },
    "tags": []
   },
   "outputs": [
    {
     "name": "stdout",
     "output_type": "stream",
     "text": [
      "         BatteryBand  price_range\n",
      "0  (499.503, 875.25]     1.256983\n",
      "1   (875.25, 1249.5]     1.311983\n",
      "2  (1249.5, 1623.75]     1.644172\n",
      "3  (1623.75, 1998.0]     1.808163 \n",
      "\n",
      "        clockBand  price_range\n",
      "0  (0.498, 1.125]     1.463415\n",
      "1   (1.125, 1.75]     1.612091\n",
      "2   (1.75, 2.375]     1.570025\n",
      "3    (2.375, 3.0]     1.393285 \n",
      "\n",
      "           fcBand  price_range\n",
      "0  (-0.019, 4.75]     1.491329\n",
      "1     (4.75, 9.5]     1.509881\n",
      "2    (9.5, 14.25]     1.477064\n",
      "3   (14.25, 19.0]     1.661538 \n",
      "\n",
      "      intmemBand  price_range\n",
      "0  (1.938, 17.5]     1.472072\n",
      "1   (17.5, 33.0]     1.408284\n",
      "2   (33.0, 48.5]     1.597374\n",
      "3   (48.5, 64.0]     1.536383 \n",
      "\n",
      "         pcBand  price_range\n",
      "0  (-0.02, 5.0]     1.441016\n",
      "1   (5.0, 10.0]     1.508380\n",
      "2  (10.0, 15.0]     1.460000\n",
      "3  (15.0, 20.0]     1.599567 \n",
      "\n",
      "        sizeBand  price_range\n",
      "0  (4.979, 10.3]     1.479132\n",
      "1   (10.3, 15.6]     1.453925\n",
      "2   (15.6, 20.9]     1.518283\n",
      "3   (20.9, 26.2]     1.650538 \n",
      "\n",
      "   blue  price_range\n",
      "0   0.0     1.477228\n",
      "1   1.0     1.523232 \n",
      "\n",
      "   dual_sim  price_range\n",
      "0       0.0     1.480122\n",
      "1       1.0     1.519136 \n",
      "\n",
      "   four_g  price_range\n",
      "0     0.0     1.482759\n",
      "1     1.0     1.515820 \n",
      "\n",
      "   touch_screen  price_range\n",
      "0           0.0     1.534205\n",
      "1           1.0     1.466203 \n",
      "\n",
      "   wifi  price_range\n",
      "0   0.0     1.478702\n",
      "1   1.0     1.520710 \n",
      "\n"
     ]
    }
   ],
   "source": [
    "# dividing and grouping column battery_power\n",
    "train['BatteryBand'] = pd.cut(train['battery_power'], 4)\n",
    "bb = train[['BatteryBand', 'price_range']].groupby(['BatteryBand'], as_index=False).mean().sort_values(by='BatteryBand', ascending=True)\n",
    "\n",
    "# dividing and grouping column clock_speed\n",
    "train['clockBand'] = pd.cut(train['clock_speed'], 4)\n",
    "cb = train[['clockBand', 'price_range']].groupby(['clockBand'], as_index=False).mean().sort_values(by='clockBand', ascending=True)\n",
    "\n",
    "# dividing and grouping column fc\n",
    "train['fcBand'] = pd.cut(train['fc'], 4)\n",
    "fb = train[['fcBand', 'price_range']].groupby(['fcBand'], as_index=False).mean().sort_values(by='fcBand', ascending=True)\n",
    "\n",
    "# dividing and grouping column int_memory\n",
    "train['intmemBand'] = pd.cut(train['int_memory'], 4)\n",
    "ib = train[['intmemBand', 'price_range']].groupby(['intmemBand'], as_index=False).mean().sort_values(by='intmemBand', ascending=True)\n",
    "\n",
    "# dividing and grouping column pc\n",
    "train['pcBand'] = pd.cut(train['pc'], 4)\n",
    "pb = train[['pcBand', 'price_range']].groupby(['pcBand'], as_index=False).mean().sort_values(by='pcBand', ascending=True)\n",
    "\n",
    "# dividing and grouping column ph_size\n",
    "train['sizeBand'] = pd.cut(train['ph_size'], 4)\n",
    "sb = train[['sizeBand', 'price_range']].groupby(['sizeBand'], as_index=False).mean().sort_values(by='sizeBand', ascending=True)\n",
    "\n",
    "# dividing and grouping column ram\n",
    "train['ramBand'] = pd.cut(train['ram'], 4)\n",
    "rb = train[['ramBand', 'price_range']].groupby(['ramBand'], as_index=False).mean().sort_values(by='ramBand', ascending=True)\n",
    "\n",
    "# grouping column blue\n",
    "blb = train[['blue', 'price_range']].groupby(['blue'], as_index=False).mean()\n",
    "\n",
    "# grouping column dual_sim\n",
    "dsb = train[['dual_sim', 'price_range']].groupby(['dual_sim'], as_index=False).mean()\n",
    "\n",
    "# grouping column four_g\n",
    "fob = train[['four_g', 'price_range']].groupby(['four_g'], as_index=False).mean()\n",
    "\n",
    "# grouping column touch_screen\n",
    "tsb = train[['touch_screen', 'price_range']].groupby(['touch_screen'], as_index=False).mean()\n",
    "\n",
    "# grouping column wifi\n",
    "wfb = train[['wifi', 'price_range']].groupby(['wifi'], as_index=False).mean()\n",
    "\n",
    "# printing results\n",
    "print(bb, '\\n')\n",
    "print(cb, '\\n')\n",
    "print(fb, '\\n')\n",
    "print(ib, '\\n')\n",
    "print(pb, '\\n')\n",
    "print(sb, '\\n')\n",
    "print(blb, '\\n')\n",
    "print(dsb, '\\n')\n",
    "print(fob, '\\n')\n",
    "print(tsb, '\\n')\n",
    "print(wfb, '\\n')"
   ]
  },
  {
   "cell_type": "markdown",
   "metadata": {
    "papermill": {
     "duration": 0.042957,
     "end_time": "2020-11-15T14:14:34.274312",
     "exception": false,
     "start_time": "2020-11-15T14:14:34.231355",
     "status": "completed"
    },
    "tags": []
   },
   "source": [
    "We have successfully completed cleaning and wrangling our data. Now its time to explore Data Visualization. "
   ]
  },
  {
   "cell_type": "markdown",
   "metadata": {
    "papermill": {
     "duration": 0.043609,
     "end_time": "2020-11-15T14:14:34.361112",
     "exception": false,
     "start_time": "2020-11-15T14:14:34.317503",
     "status": "completed"
    },
    "tags": []
   },
   "source": [
    "### Data Visualization"
   ]
  },
  {
   "cell_type": "markdown",
   "metadata": {
    "papermill": {
     "duration": 0.043547,
     "end_time": "2020-11-15T14:14:34.447844",
     "exception": false,
     "start_time": "2020-11-15T14:14:34.404297",
     "status": "completed"
    },
    "tags": []
   },
   "source": [
    "There are multiple values within the dataset that present conflicting results, and therefore we will not get the best graph that easily explains our parameters. \n",
    "\n",
    "Rather than using the values from the dataset, we can use the range we calculated earlier. \n",
    "\n",
    "This range will help us define the graph better and compare in an easier manner to the price. "
   ]
  },
  {
   "cell_type": "markdown",
   "metadata": {
    "papermill": {
     "duration": 0.042711,
     "end_time": "2020-11-15T14:14:34.534490",
     "exception": false,
     "start_time": "2020-11-15T14:14:34.491779",
     "status": "completed"
    },
    "tags": []
   },
   "source": [
    "#### Comparing Battery Size to the Price Range"
   ]
  },
  {
   "cell_type": "markdown",
   "metadata": {
    "papermill": {
     "duration": 0.042493,
     "end_time": "2020-11-15T14:14:34.620950",
     "exception": false,
     "start_time": "2020-11-15T14:14:34.578457",
     "status": "completed"
    },
    "tags": []
   },
   "source": [
    "This bar graph will help us visualise the price range for the battery power available in any device. It will also help us analyse the relation between the battery size and price of the device. "
   ]
  },
  {
   "cell_type": "code",
   "execution_count": 9,
   "metadata": {
    "execution": {
     "iopub.execute_input": "2020-11-15T14:14:34.715654Z",
     "iopub.status.busy": "2020-11-15T14:14:34.714890Z",
     "iopub.status.idle": "2020-11-15T14:14:34.915645Z",
     "shell.execute_reply": "2020-11-15T14:14:34.914975Z"
    },
    "papermill": {
     "duration": 0.252064,
     "end_time": "2020-11-15T14:14:34.915763",
     "exception": false,
     "start_time": "2020-11-15T14:14:34.663699",
     "status": "completed"
    },
    "tags": []
   },
   "outputs": [
    {
     "data": {
      "image/png": "[encoded data removed]",
      "text/plain": [
       "<Figure size 720x360 with 1 Axes>"
      ]
     },
     "metadata": {
      "needs_background": "light"
     },
     "output_type": "display_data"
    }
   ],
   "source": [
    "#plotting Graph\n",
    "fig, ax = plt.subplots(figsize=(10,5))\n",
    "plt.rcParams['font.sans-serif'] = 'Arial'\n",
    "plt.rcParams['font.family'] = 'sans-serif'\n",
    "plt.rcParams['text.color'] = '#000000'\n",
    "plt.rcParams['axes.labelcolor']= '#000000'\n",
    "plt.rcParams['xtick.color'] = '#000000'\n",
    "plt.rcParams['ytick.color'] = '#000000'\n",
    "plt.rcParams['font.size']=14\n",
    "\n",
    "sns.despine()\n",
    "sns.set_style(\"white\")\n",
    "sns_battery_price = sns.barplot(x='BatteryBand', y='price_range', data=bb.reset_index(), label=\"BatteryBand\", ax=ax)\n",
    "ax.set_title(\"Average Price Range based on Battery Size\", fontsize=17)\n",
    "ax.set_ylabel(\"Average Price Range\")\n",
    "ax.set_xlabel(\"Battery Size Range (in mAh)\")\n",
    "ax.set_xticklabels(['499.5 - 875.25', '875.25 - 1249.5', '1249.5 - 1623.75', '1623.75 - 1998.0'], rotation=-30)\n",
    "plt.show()"
   ]
  },
  {
   "cell_type": "markdown",
   "metadata": {
    "papermill": {
     "duration": 0.043418,
     "end_time": "2020-11-15T14:14:35.003041",
     "exception": false,
     "start_time": "2020-11-15T14:14:34.959623",
     "status": "completed"
    },
    "tags": []
   },
   "source": [
    "#### Comparing Clock Speed to the Price Range"
   ]
  },
  {
   "cell_type": "markdown",
   "metadata": {
    "papermill": {
     "duration": 0.043705,
     "end_time": "2020-11-15T14:14:35.091052",
     "exception": false,
     "start_time": "2020-11-15T14:14:35.047347",
     "status": "completed"
    },
    "tags": []
   },
   "source": [
    "This bar graph will help us visualise the price range for the clock speed available in any device. It will also help us analyse the relation between the clock speed and price of the device. "
   ]
  },
  {
   "cell_type": "code",
   "execution_count": 10,
   "metadata": {
    "execution": {
     "iopub.execute_input": "2020-11-15T14:14:35.195156Z",
     "iopub.status.busy": "2020-11-15T14:14:35.194065Z",
     "iopub.status.idle": "2020-11-15T14:14:35.357285Z",
     "shell.execute_reply": "2020-11-15T14:14:35.356623Z"
    },
    "papermill": {
     "duration": 0.222358,
     "end_time": "2020-11-15T14:14:35.357402",
     "exception": false,
     "start_time": "2020-11-15T14:14:35.135044",
     "status": "completed"
    },
    "tags": []
   },
   "outputs": [
    {
     "data": {
      "image/png": "[encoded data removed]",
      "text/plain": [
       "<Figure size 720x360 with 1 Axes>"
      ]
     },
     "metadata": {},
     "output_type": "display_data"
    }
   ],
   "source": [
    "#plotting Graph\n",
    "fig, ax = plt.subplots(figsize=(10,5))\n",
    "plt.rcParams['font.sans-serif'] = 'Arial'\n",
    "plt.rcParams['font.family'] = 'sans-serif'\n",
    "plt.rcParams['text.color'] = '#000000'\n",
    "plt.rcParams['axes.labelcolor']= '#000000'\n",
    "plt.rcParams['xtick.color'] = '#000000'\n",
    "plt.rcParams['ytick.color'] = '#000000'\n",
    "plt.rcParams['font.size']=14\n",
    "\n",
    "sns.despine()\n",
    "sns.set_style(\"white\")\n",
    "sns_battery_price = sns.barplot(x='clockBand', y='price_range', data=cb.reset_index(), label=\"clockBand\", ax=ax)\n",
    "ax.set_title(\"Average Price Range based on Clock Speed\", fontsize=17)\n",
    "ax.set_ylabel(\"Average Price Range\")\n",
    "ax.set_xlabel(\"Clock Speed Range (in GHz)\")\n",
    "ax.set_xticklabels(['0.5 - 1.125', '1.125 - 1.75', '1.75 - 2.375', '2.375 - 3.0'], rotation=-30)\n",
    "plt.show()"
   ]
  },
  {
   "cell_type": "markdown",
   "metadata": {
    "papermill": {
     "duration": 0.044913,
     "end_time": "2020-11-15T14:14:35.448525",
     "exception": false,
     "start_time": "2020-11-15T14:14:35.403612",
     "status": "completed"
    },
    "tags": []
   },
   "source": [
    "#### Comparing Primary Camera Resolution to Price Range"
   ]
  },
  {
   "cell_type": "markdown",
   "metadata": {
    "papermill": {
     "duration": 0.044844,
     "end_time": "2020-11-15T14:14:35.538478",
     "exception": false,
     "start_time": "2020-11-15T14:14:35.493634",
     "status": "completed"
    },
    "tags": []
   },
   "source": [
    "This bar graph will help us visualise the price range for the primary camera resolution available in any device. It will also help us analyse the relation between the primary camera resolution and price of the device. "
   ]
  },
  {
   "cell_type": "code",
   "execution_count": 11,
   "metadata": {
    "execution": {
     "iopub.execute_input": "2020-11-15T14:14:35.646607Z",
     "iopub.status.busy": "2020-11-15T14:14:35.645886Z",
     "iopub.status.idle": "2020-11-15T14:14:35.808156Z",
     "shell.execute_reply": "2020-11-15T14:14:35.806153Z"
    },
    "papermill": {
     "duration": 0.222134,
     "end_time": "2020-11-15T14:14:35.808334",
     "exception": false,
     "start_time": "2020-11-15T14:14:35.586200",
     "status": "completed"
    },
    "tags": []
   },
   "outputs": [
    {
     "data": {
      "image/png": "[encoded data removed]",
      "text/plain": [
       "<Figure size 720x360 with 1 Axes>"
      ]
     },
     "metadata": {},
     "output_type": "display_data"
    }
   ],
   "source": [
    "#plotting Graph\n",
    "fig, ax = plt.subplots(figsize=(10,5))\n",
    "plt.rcParams['font.sans-serif'] = 'Arial'\n",
    "plt.rcParams['font.family'] = 'sans-serif'\n",
    "plt.rcParams['text.color'] = '#000000'\n",
    "plt.rcParams['axes.labelcolor']= '#000000'\n",
    "plt.rcParams['xtick.color'] = '#000000'\n",
    "plt.rcParams['ytick.color'] = '#000000'\n",
    "plt.rcParams['font.size']=14\n",
    "\n",
    "sns.despine()\n",
    "sns.set_style(\"white\")\n",
    "sns_battery_price = sns.barplot(x='fcBand', y='price_range', data=fb.reset_index(), label=\"fcBand\", ax=ax)\n",
    "ax.set_title(\"Average Price Range based on Front Camera Resolution\", fontsize=17)\n",
    "ax.set_ylabel(\"Average Price Range\")\n",
    "ax.set_xlabel(\"Front Camera Resolution Range (in pixels)\")\n",
    "ax.set_xticklabels(['0 - 4.75', '4.75 - 9.5', '9.5 - 14.25', '14.25 - 19.0'], rotation=-30)\n",
    "plt.show()"
   ]
  },
  {
   "cell_type": "markdown",
   "metadata": {
    "papermill": {
     "duration": 0.047839,
     "end_time": "2020-11-15T14:14:35.956709",
     "exception": false,
     "start_time": "2020-11-15T14:14:35.908870",
     "status": "completed"
    },
    "tags": []
   },
   "source": [
    "#### Comparing Internal Memory to Price Range"
   ]
  },
  {
   "cell_type": "markdown",
   "metadata": {
    "papermill": {
     "duration": 0.055172,
     "end_time": "2020-11-15T14:14:36.069914",
     "exception": false,
     "start_time": "2020-11-15T14:14:36.014742",
     "status": "completed"
    },
    "tags": []
   },
   "source": [
    "This bar graph will help us visualise the price range for the internal memory available in any device. It will also help us analyse the relation between the internal memory and price of the device. "
   ]
  },
  {
   "cell_type": "code",
   "execution_count": 12,
   "metadata": {
    "execution": {
     "iopub.execute_input": "2020-11-15T14:14:36.417854Z",
     "iopub.status.busy": "2020-11-15T14:14:36.416796Z",
     "iopub.status.idle": "2020-11-15T14:14:36.585554Z",
     "shell.execute_reply": "2020-11-15T14:14:36.586055Z"
    },
    "papermill": {
     "duration": 0.443468,
     "end_time": "2020-11-15T14:14:36.586194",
     "exception": false,
     "start_time": "2020-11-15T14:14:36.142726",
     "status": "completed"
    },
    "tags": []
   },
   "outputs": [
    {
     "data": {
      "image/png": "[encoded data removed]",
      "text/plain": [
       "<Figure size 720x360 with 1 Axes>"
      ]
     },
     "metadata": {},
     "output_type": "display_data"
    }
   ],
   "source": [
    "#plotting Graph\n",
    "fig, ax = plt.subplots(figsize=(10,5))\n",
    "plt.rcParams['font.sans-serif'] = 'Arial'\n",
    "plt.rcParams['font.family'] = 'sans-serif'\n",
    "plt.rcParams['text.color'] = '#000000'\n",
    "plt.rcParams['axes.labelcolor']= '#000000'\n",
    "plt.rcParams['xtick.color'] = '#000000'\n",
    "plt.rcParams['ytick.color'] = '#000000'\n",
    "plt.rcParams['font.size']=14\n",
    "\n",
    "sns.despine()\n",
    "sns.set_style(\"white\")\n",
    "sns_battery_price = sns.barplot(x='intmemBand', y='price_range', data=ib.reset_index(), label=\"intmemBand\", ax=ax)\n",
    "ax.set_title(\"Average Price Range based on Internal Memory\", fontsize=17)\n",
    "ax.set_ylabel(\"Average Price Range\")\n",
    "ax.set_xlabel(\"Internal Memory Range (in GB)\")\n",
    "ax.set_xticklabels(['1.9 - 17.5', '17.5 - 33.0', '33.0 - 48.5', '48.5 - 64.0'], rotation=-30)\n",
    "plt.show()"
   ]
  },
  {
   "cell_type": "markdown",
   "metadata": {
    "papermill": {
     "duration": 0.077119,
     "end_time": "2020-11-15T14:14:36.711895",
     "exception": false,
     "start_time": "2020-11-15T14:14:36.634776",
     "status": "completed"
    },
    "tags": []
   },
   "source": [
    "#### Comparing Primary Camera Resolution to Price Range"
   ]
  },
  {
   "cell_type": "markdown",
   "metadata": {
    "papermill": {
     "duration": 0.083349,
     "end_time": "2020-11-15T14:14:36.880842",
     "exception": false,
     "start_time": "2020-11-15T14:14:36.797493",
     "status": "completed"
    },
    "tags": []
   },
   "source": [
    "This bar graph will help us visualise the primary camera resolution for the battery power available in any device. It will also help us analyse the relation between the primary camera resolution and price of the device. "
   ]
  },
  {
   "cell_type": "code",
   "execution_count": 13,
   "metadata": {
    "execution": {
     "iopub.execute_input": "2020-11-15T14:14:37.026375Z",
     "iopub.status.busy": "2020-11-15T14:14:37.020617Z",
     "iopub.status.idle": "2020-11-15T14:14:37.189247Z",
     "shell.execute_reply": "2020-11-15T14:14:37.188730Z"
    },
    "papermill": {
     "duration": 0.229605,
     "end_time": "2020-11-15T14:14:37.189368",
     "exception": false,
     "start_time": "2020-11-15T14:14:36.959763",
     "status": "completed"
    },
    "tags": []
   },
   "outputs": [
    {
     "data": {
      "image/png": "[encoded data removed]",
      "text/plain": [
       "<Figure size 720x360 with 1 Axes>"
      ]
     },
     "metadata": {},
     "output_type": "display_data"
    }
   ],
   "source": [
    "#plotting Graph\n",
    "fig, ax = plt.subplots(figsize=(10,5))\n",
    "plt.rcParams['font.sans-serif'] = 'Arial'\n",
    "plt.rcParams['font.family'] = 'sans-serif'\n",
    "plt.rcParams['text.color'] = '#000000'\n",
    "plt.rcParams['axes.labelcolor']= '#000000'\n",
    "plt.rcParams['xtick.color'] = '#000000'\n",
    "plt.rcParams['ytick.color'] = '#000000'\n",
    "plt.rcParams['font.size']=14\n",
    "\n",
    "sns.despine()\n",
    "sns.set_style(\"white\")\n",
    "sns_battery_price = sns.barplot(x='pcBand', y='price_range', data=pb.reset_index(), label=\"pcBand\", ax=ax)\n",
    "ax.set_title(\"Average Price Range based on Primary Camera\", fontsize=17)\n",
    "ax.set_ylabel(\"Average Price Range\")\n",
    "ax.set_xlabel(\"Primary Camera Resolution (in pixels)\")\n",
    "ax.set_xticklabels(['0 - 5.0', '5.0 - 10.0', '10.0 - 15.0', '15.0 - 20.0'], rotation=-30)\n",
    "plt.show()"
   ]
  },
  {
   "cell_type": "markdown",
   "metadata": {
    "papermill": {
     "duration": 0.04911,
     "end_time": "2020-11-15T14:14:37.287597",
     "exception": false,
     "start_time": "2020-11-15T14:14:37.238487",
     "status": "completed"
    },
    "tags": []
   },
   "source": [
    "#### Comparing Screen Size (in **cm**) to Price Range "
   ]
  },
  {
   "cell_type": "markdown",
   "metadata": {
    "papermill": {
     "duration": 0.048887,
     "end_time": "2020-11-15T14:14:37.386017",
     "exception": false,
     "start_time": "2020-11-15T14:14:37.337130",
     "status": "completed"
    },
    "tags": []
   },
   "source": [
    "This bar graph will help us visualise the price range for the screen size available on any device. It will also help us analyse the relation between the screen size and price of the device. "
   ]
  },
  {
   "cell_type": "code",
   "execution_count": 14,
   "metadata": {
    "execution": {
     "iopub.execute_input": "2020-11-15T14:14:37.495668Z",
     "iopub.status.busy": "2020-11-15T14:14:37.494776Z",
     "iopub.status.idle": "2020-11-15T14:14:37.655493Z",
     "shell.execute_reply": "2020-11-15T14:14:37.654879Z"
    },
    "papermill": {
     "duration": 0.22061,
     "end_time": "2020-11-15T14:14:37.655608",
     "exception": false,
     "start_time": "2020-11-15T14:14:37.434998",
     "status": "completed"
    },
    "tags": []
   },
   "outputs": [
    {
     "data": {
      "image/png": "[encoded data removed]",
      "text/plain": [
       "<Figure size 720x360 with 1 Axes>"
      ]
     },
     "metadata": {},
     "output_type": "display_data"
    }
   ],
   "source": [
    "#plotting Graph\n",
    "fig, ax = plt.subplots(figsize=(10,5))\n",
    "plt.rcParams['font.sans-serif'] = 'Arial'\n",
    "plt.rcParams['font.family'] = 'sans-serif'\n",
    "plt.rcParams['text.color'] = '#000000'\n",
    "plt.rcParams['axes.labelcolor']= '#000000'\n",
    "plt.rcParams['xtick.color'] = '#000000'\n",
    "plt.rcParams['ytick.color'] = '#000000'\n",
    "plt.rcParams['font.size']=14\n",
    "\n",
    "sns.despine()\n",
    "sns.set_style(\"white\")\n",
    "sns_battery_price = sns.barplot(x='sizeBand', y='price_range', data=sb.reset_index(), label=\"sizeBand\", ax=ax)\n",
    "ax.set_title(\"Average Price Range based on Screen Size\", fontsize=17)\n",
    "ax.set_ylabel(\"Average Price Range\")\n",
    "ax.set_xlabel(\"Screen Size (in cm)\")\n",
    "ax.set_xticklabels(['4.9 - 10.3', '10.3 - 15.6', '15.6 - 20.9', '20.9 - 26.2'], rotation=-30)\n",
    "plt.show()"
   ]
  },
  {
   "cell_type": "markdown",
   "metadata": {
    "papermill": {
     "duration": 0.050036,
     "end_time": "2020-11-15T14:14:37.755869",
     "exception": false,
     "start_time": "2020-11-15T14:14:37.705833",
     "status": "completed"
    },
    "tags": []
   },
   "source": [
    "#### Comparing Availability of Bluetooth to Price Range"
   ]
  },
  {
   "cell_type": "markdown",
   "metadata": {
    "papermill": {
     "duration": 0.051076,
     "end_time": "2020-11-15T14:14:37.857369",
     "exception": false,
     "start_time": "2020-11-15T14:14:37.806293",
     "status": "completed"
    },
    "tags": []
   },
   "source": [
    "This bar graph will help us visualise the relation that presence of bluetooth within the device has on the price of the device. "
   ]
  },
  {
   "cell_type": "code",
   "execution_count": 15,
   "metadata": {
    "execution": {
     "iopub.execute_input": "2020-11-15T14:14:37.971681Z",
     "iopub.status.busy": "2020-11-15T14:14:37.970956Z",
     "iopub.status.idle": "2020-11-15T14:14:38.104570Z",
     "shell.execute_reply": "2020-11-15T14:14:38.103913Z"
    },
    "papermill": {
     "duration": 0.197063,
     "end_time": "2020-11-15T14:14:38.104686",
     "exception": false,
     "start_time": "2020-11-15T14:14:37.907623",
     "status": "completed"
    },
    "tags": []
   },
   "outputs": [
    {
     "data": {
      "image/png": "[encoded data removed]",
      "text/plain": [
       "<Figure size 720x360 with 1 Axes>"
      ]
     },
     "metadata": {},
     "output_type": "display_data"
    }
   ],
   "source": [
    "#plotting Graph\n",
    "fig, ax = plt.subplots(figsize=(10,5))\n",
    "plt.rcParams['font.sans-serif'] = 'Arial'\n",
    "plt.rcParams['font.family'] = 'sans-serif'\n",
    "plt.rcParams['text.color'] = '#000000'\n",
    "plt.rcParams['axes.labelcolor']= '#000000'\n",
    "plt.rcParams['xtick.color'] = '#000000'\n",
    "plt.rcParams['ytick.color'] = '#000000'\n",
    "plt.rcParams['font.size']=14\n",
    "\n",
    "sns.despine()\n",
    "sns.set_style(\"white\")\n",
    "sns_battery_price = sns.barplot(x='blue', y='price_range', data=blb.reset_index(), label=\"blue\", ax=ax)\n",
    "ax.set_title(\"Average Price Range based on Bluetooth Availability\", fontsize=17)\n",
    "ax.set_ylabel(\"Average Price Range\")\n",
    "ax.set_xlabel(\"Bluetooth Availability\")\n",
    "ax.set_xticklabels(['No', 'Yes'], rotation=-30)\n",
    "plt.show()"
   ]
  },
  {
   "cell_type": "markdown",
   "metadata": {
    "papermill": {
     "duration": 0.052141,
     "end_time": "2020-11-15T14:14:38.211590",
     "exception": false,
     "start_time": "2020-11-15T14:14:38.159449",
     "status": "completed"
    },
    "tags": []
   },
   "source": [
    "#### Comparing Availability of Dual SIM to Price Range"
   ]
  },
  {
   "cell_type": "markdown",
   "metadata": {
    "papermill": {
     "duration": 0.053375,
     "end_time": "2020-11-15T14:14:38.317138",
     "exception": false,
     "start_time": "2020-11-15T14:14:38.263763",
     "status": "completed"
    },
    "tags": []
   },
   "source": [
    "This bar graph will help us visualise the relation that presence of dual SIM support within the device has on the price of the device. "
   ]
  },
  {
   "cell_type": "code",
   "execution_count": 16,
   "metadata": {
    "execution": {
     "iopub.execute_input": "2020-11-15T14:14:38.438180Z",
     "iopub.status.busy": "2020-11-15T14:14:38.437259Z",
     "iopub.status.idle": "2020-11-15T14:14:38.569664Z",
     "shell.execute_reply": "2020-11-15T14:14:38.570151Z"
    },
    "papermill": {
     "duration": 0.200127,
     "end_time": "2020-11-15T14:14:38.570292",
     "exception": false,
     "start_time": "2020-11-15T14:14:38.370165",
     "status": "completed"
    },
    "tags": []
   },
   "outputs": [
    {
     "data": {
      "image/png": "[encoded data removed]",
      "text/plain": [
       "<Figure size 720x360 with 1 Axes>"
      ]
     },
     "metadata": {},
     "output_type": "display_data"
    }
   ],
   "source": [
    "#plotting Graph\n",
    "fig, ax = plt.subplots(figsize=(10,5))\n",
    "plt.rcParams['font.sans-serif'] = 'Arial'\n",
    "plt.rcParams['font.family'] = 'sans-serif'\n",
    "plt.rcParams['text.color'] = '#000000'\n",
    "plt.rcParams['axes.labelcolor']= '#000000'\n",
    "plt.rcParams['xtick.color'] = '#000000'\n",
    "plt.rcParams['ytick.color'] = '#000000'\n",
    "plt.rcParams['font.size']=14\n",
    "\n",
    "sns.despine()\n",
    "sns.set_style(\"white\")\n",
    "sns_battery_price = sns.barplot(x='dual_sim', y='price_range', data=dsb.reset_index(), label=\"dual_sim\", ax=ax)\n",
    "ax.set_title(\"Average Price Range based on Dual SIM Availability\", fontsize=17)\n",
    "ax.set_ylabel(\"Average Price Range\")\n",
    "ax.set_xlabel(\"Dual SIM Availability\")\n",
    "ax.set_xticklabels(['No', 'Yes'], rotation=-30)\n",
    "plt.show()"
   ]
  },
  {
   "cell_type": "markdown",
   "metadata": {
    "papermill": {
     "duration": 0.052257,
     "end_time": "2020-11-15T14:14:38.675106",
     "exception": false,
     "start_time": "2020-11-15T14:14:38.622849",
     "status": "completed"
    },
    "tags": []
   },
   "source": [
    "#### Comparing Availability of 4G to Price Range"
   ]
  },
  {
   "cell_type": "markdown",
   "metadata": {
    "papermill": {
     "duration": 0.052525,
     "end_time": "2020-11-15T14:14:38.780101",
     "exception": false,
     "start_time": "2020-11-15T14:14:38.727576",
     "status": "completed"
    },
    "tags": []
   },
   "source": [
    "This bar graph will help us visualise the relation that presence of 4G connection within the device has on the price of the device. "
   ]
  },
  {
   "cell_type": "code",
   "execution_count": 17,
   "metadata": {
    "execution": {
     "iopub.execute_input": "2020-11-15T14:14:38.919552Z",
     "iopub.status.busy": "2020-11-15T14:14:38.918547Z",
     "iopub.status.idle": "2020-11-15T14:14:39.047619Z",
     "shell.execute_reply": "2020-11-15T14:14:39.046997Z"
    },
    "papermill": {
     "duration": 0.215007,
     "end_time": "2020-11-15T14:14:39.047746",
     "exception": false,
     "start_time": "2020-11-15T14:14:38.832739",
     "status": "completed"
    },
    "tags": []
   },
   "outputs": [
    {
     "data": {
      "image/png": "[encoded data removed]",
      "text/plain": [
       "<Figure size 720x360 with 1 Axes>"
      ]
     },
     "metadata": {},
     "output_type": "display_data"
    }
   ],
   "source": [
    "#plotting Graph\n",
    "fig, ax = plt.subplots(figsize=(10,5))\n",
    "plt.rcParams['font.sans-serif'] = 'Arial'\n",
    "plt.rcParams['font.family'] = 'sans-serif'\n",
    "plt.rcParams['text.color'] = '#000000'\n",
    "plt.rcParams['axes.labelcolor']= '#000000'\n",
    "plt.rcParams['xtick.color'] = '#000000'\n",
    "plt.rcParams['ytick.color'] = '#000000'\n",
    "plt.rcParams['font.size']=14\n",
    "\n",
    "sns.despine()\n",
    "sns.set_style(\"white\")\n",
    "sns_battery_price = sns.barplot(x='four_g', y='price_range', data=fob.reset_index(), label=\"four_g\", ax=ax)\n",
    "ax.set_title(\"Average Price Range based on 4G Availability\", fontsize=17)\n",
    "ax.set_ylabel(\"Average Price Range\")\n",
    "ax.set_xlabel(\"4G Availability\")\n",
    "ax.set_xticklabels(['No', 'Yes'], rotation=-30)\n",
    "plt.show()"
   ]
  },
  {
   "cell_type": "markdown",
   "metadata": {
    "papermill": {
     "duration": 0.053114,
     "end_time": "2020-11-15T14:14:39.154180",
     "exception": false,
     "start_time": "2020-11-15T14:14:39.101066",
     "status": "completed"
    },
    "tags": []
   },
   "source": [
    "#### Comparing Availability of Touchscreen to Price Range "
   ]
  },
  {
   "cell_type": "markdown",
   "metadata": {
    "papermill": {
     "duration": 0.052947,
     "end_time": "2020-11-15T14:14:39.262571",
     "exception": false,
     "start_time": "2020-11-15T14:14:39.209624",
     "status": "completed"
    },
    "tags": []
   },
   "source": [
    "This bar graph will help us visualise the relation that a touchscreen device has on the price of the device. "
   ]
  },
  {
   "cell_type": "code",
   "execution_count": 18,
   "metadata": {
    "execution": {
     "iopub.execute_input": "2020-11-15T14:14:39.386102Z",
     "iopub.status.busy": "2020-11-15T14:14:39.381535Z",
     "iopub.status.idle": "2020-11-15T14:14:39.521580Z",
     "shell.execute_reply": "2020-11-15T14:14:39.521058Z"
    },
    "papermill": {
     "duration": 0.203765,
     "end_time": "2020-11-15T14:14:39.521714",
     "exception": false,
     "start_time": "2020-11-15T14:14:39.317949",
     "status": "completed"
    },
    "tags": []
   },
   "outputs": [
    {
     "data": {
      "image/png": "[encoded data removed]",
      "text/plain": [
       "<Figure size 720x360 with 1 Axes>"
      ]
     },
     "metadata": {},
     "output_type": "display_data"
    }
   ],
   "source": [
    "#plotting Graph\n",
    "fig, ax = plt.subplots(figsize=(10,5))\n",
    "plt.rcParams['font.sans-serif'] = 'Arial'\n",
    "plt.rcParams['font.family'] = 'sans-serif'\n",
    "plt.rcParams['text.color'] = '#000000'\n",
    "plt.rcParams['axes.labelcolor']= '#000000'\n",
    "plt.rcParams['xtick.color'] = '#000000'\n",
    "plt.rcParams['ytick.color'] = '#000000'\n",
    "plt.rcParams['font.size']=14\n",
    "\n",
    "sns.despine()\n",
    "sns.set_style(\"white\")\n",
    "sns_battery_price = sns.barplot(x='touch_screen', y='price_range', data=tsb.reset_index(), label=\"touch_screen\", ax=ax)\n",
    "ax.set_title(\"Average Price Range based on Touch Screen Availability\", fontsize=17)\n",
    "ax.set_ylabel(\"Average Price Range\")\n",
    "ax.set_xlabel(\"Touchscreen Availability\")\n",
    "ax.set_xticklabels(['No', 'Yes'], rotation=-30)\n",
    "plt.show()"
   ]
  },
  {
   "cell_type": "markdown",
   "metadata": {
    "papermill": {
     "duration": 0.057836,
     "end_time": "2020-11-15T14:14:39.636294",
     "exception": false,
     "start_time": "2020-11-15T14:14:39.578458",
     "status": "completed"
    },
    "tags": []
   },
   "source": [
    "#### Comparing Availability of WiFi to Price Range"
   ]
  },
  {
   "cell_type": "markdown",
   "metadata": {
    "papermill": {
     "duration": 0.053444,
     "end_time": "2020-11-15T14:14:39.743679",
     "exception": false,
     "start_time": "2020-11-15T14:14:39.690235",
     "status": "completed"
    },
    "tags": []
   },
   "source": [
    "This bar graph will help us visualise the relation that presence of WiFi support within the device has on the price of the device. "
   ]
  },
  {
   "cell_type": "code",
   "execution_count": 19,
   "metadata": {
    "execution": {
     "iopub.execute_input": "2020-11-15T14:14:39.863864Z",
     "iopub.status.busy": "2020-11-15T14:14:39.863071Z",
     "iopub.status.idle": "2020-11-15T14:14:39.997229Z",
     "shell.execute_reply": "2020-11-15T14:14:39.996696Z"
    },
    "papermill": {
     "duration": 0.199126,
     "end_time": "2020-11-15T14:14:39.997342",
     "exception": false,
     "start_time": "2020-11-15T14:14:39.798216",
     "status": "completed"
    },
    "tags": []
   },
   "outputs": [
    {
     "data": {
      "image/png": "[encoded data removed]",
      "text/plain": [
       "<Figure size 720x360 with 1 Axes>"
      ]
     },
     "metadata": {},
     "output_type": "display_data"
    }
   ],
   "source": [
    "#plotting Graph\n",
    "fig, ax = plt.subplots(figsize=(10,5))\n",
    "plt.rcParams['font.sans-serif'] = 'Arial'\n",
    "plt.rcParams['font.family'] = 'sans-serif'\n",
    "plt.rcParams['text.color'] = '#000000'\n",
    "plt.rcParams['axes.labelcolor']= '#000000'\n",
    "plt.rcParams['xtick.color'] = '#000000'\n",
    "plt.rcParams['ytick.color'] = '#000000'\n",
    "plt.rcParams['font.size']=14\n",
    "\n",
    "sns.despine()\n",
    "sns.set_style(\"white\")\n",
    "sns_battery_price = sns.barplot(x='wifi', y='price_range', data=wfb.reset_index(), label=\"wifi\", ax=ax)\n",
    "ax.set_title(\"Average Price Range based on WiFi Availability\", fontsize=17)\n",
    "ax.set_ylabel(\"Average Price Range\")\n",
    "ax.set_xlabel(\"WiFi Availability\")\n",
    "ax.set_xticklabels(['No', 'Yes'], rotation=-30)\n",
    "plt.show()"
   ]
  },
  {
   "cell_type": "markdown",
   "metadata": {
    "papermill": {
     "duration": 0.054864,
     "end_time": "2020-11-15T14:14:40.107916",
     "exception": false,
     "start_time": "2020-11-15T14:14:40.053052",
     "status": "completed"
    },
    "tags": []
   },
   "source": [
    "Now that we have successfully completed our data visualization, a few key things to note - \n",
    "\n",
    "* Greater the battery size, greater the price range\n",
    "\n",
    "* There is a sudden rise in price range for devices with primary camera resolution beyond 15MP\n",
    "* There is a sudden rise in price range for devices with front camera resolution beyond 14MP\n",
    "* There is a sudden rise in price range for devices with screen size beyond 20.9cm (8inch)\n",
    "\n",
    "* No particular inference can be brought about with respect to clock speed\n",
    "* No particular inference can be brought about with respect to internal memory\n",
    "\n",
    "* There is a marginal rise in price for any device containing Bluetooth, WiFi, 4G and Dual SIM\n",
    "* Touchscreen is the only category where the lack of that feature on that device incurs a greater price. \n",
    "\n",
    "We can now move onto creating price range predictions for the test dataset, using machine learning classifiers. "
   ]
  },
  {
   "cell_type": "markdown",
   "metadata": {
    "papermill": {
     "duration": 0.055361,
     "end_time": "2020-11-15T14:14:40.218283",
     "exception": false,
     "start_time": "2020-11-15T14:14:40.162922",
     "status": "completed"
    },
    "tags": []
   },
   "source": [
    "### Machine Learning and Classification"
   ]
  },
  {
   "cell_type": "markdown",
   "metadata": {
    "papermill": {
     "duration": 0.055032,
     "end_time": "2020-11-15T14:14:40.328619",
     "exception": false,
     "start_time": "2020-11-15T14:14:40.273587",
     "status": "completed"
    },
    "tags": []
   },
   "source": [
    "Withing this subsection we are going to assign a price range to the devices present in the test dataset, based on predictions using values we encountered in the training dataset. \n",
    "\n",
    "For the most successful prediction of the test dataset, we will be using 7 key classification algorithms - \n",
    "\n",
    "* Decision Tree Classifier\n",
    "* Random Forest Classifier\n",
    "* Support Vector Classifier (SVC)\n",
    "* K Neighbour or K-Nearest Neighbour Classifier\n",
    "* Gaussian Naive Bayes Classifier\n",
    "* Perceptron Classifier\n",
    "* Stochastic Gradient Descent (SGD) Classifier\n",
    "\n",
    "But before we get into the classification process, we first need to have a look at the dataset. \n",
    "\n"
   ]
  },
  {
   "cell_type": "code",
   "execution_count": 20,
   "metadata": {
    "execution": {
     "iopub.execute_input": "2020-11-15T14:14:40.475120Z",
     "iopub.status.busy": "2020-11-15T14:14:40.472963Z",
     "iopub.status.idle": "2020-11-15T14:14:40.486869Z",
     "shell.execute_reply": "2020-11-15T14:14:40.487315Z"
    },
    "papermill": {
     "duration": 0.103029,
     "end_time": "2020-11-15T14:14:40.487484",
     "exception": false,
     "start_time": "2020-11-15T14:14:40.384455",
     "status": "completed"
    },
    "tags": []
   },
   "outputs": [
    {
     "data": {
      "text/html": [
       "<div>\n",
       "<style scoped>\n",
       "    .dataframe tbody tr th:only-of-type {\n",
       "        vertical-align: middle;\n",
       "    }\n",
       "\n",
       "    .dataframe tbody tr th {\n",
       "        vertical-align: top;\n",
       "    }\n",
       "\n",
       "    .dataframe thead th {\n",
       "        text-align: right;\n",
       "    }\n",
       "</style>\n",
       "<table border=\"1\" class=\"dataframe\">\n",
       "  <thead>\n",
       "    <tr style=\"text-align: right;\">\n",
       "      <th></th>\n",
       "      <th>battery_power</th>\n",
       "      <th>blue</th>\n",
       "      <th>clock_speed</th>\n",
       "      <th>dual_sim</th>\n",
       "      <th>fc</th>\n",
       "      <th>four_g</th>\n",
       "      <th>int_memory</th>\n",
       "      <th>pc</th>\n",
       "      <th>ram</th>\n",
       "      <th>sc_h</th>\n",
       "      <th>...</th>\n",
       "      <th>wifi</th>\n",
       "      <th>price_range</th>\n",
       "      <th>ph_size</th>\n",
       "      <th>BatteryBand</th>\n",
       "      <th>clockBand</th>\n",
       "      <th>fcBand</th>\n",
       "      <th>intmemBand</th>\n",
       "      <th>pcBand</th>\n",
       "      <th>sizeBand</th>\n",
       "      <th>ramBand</th>\n",
       "    </tr>\n",
       "  </thead>\n",
       "  <tbody>\n",
       "    <tr>\n",
       "      <th>0</th>\n",
       "      <td>842.0</td>\n",
       "      <td>0.0</td>\n",
       "      <td>2.2</td>\n",
       "      <td>0.0</td>\n",
       "      <td>1.0</td>\n",
       "      <td>0.0</td>\n",
       "      <td>7.0</td>\n",
       "      <td>2.0</td>\n",
       "      <td>2549.0</td>\n",
       "      <td>9.0</td>\n",
       "      <td>...</td>\n",
       "      <td>1.0</td>\n",
       "      <td>1.0</td>\n",
       "      <td>11.4</td>\n",
       "      <td>(499.503, 875.25]</td>\n",
       "      <td>(1.75, 2.375]</td>\n",
       "      <td>(-0.019, 4.75]</td>\n",
       "      <td>(1.938, 17.5]</td>\n",
       "      <td>(-0.02, 5.0]</td>\n",
       "      <td>(10.3, 15.6]</td>\n",
       "      <td>(2127.0, 3062.5]</td>\n",
       "    </tr>\n",
       "    <tr>\n",
       "      <th>1</th>\n",
       "      <td>1021.0</td>\n",
       "      <td>1.0</td>\n",
       "      <td>0.5</td>\n",
       "      <td>1.0</td>\n",
       "      <td>0.0</td>\n",
       "      <td>1.0</td>\n",
       "      <td>53.0</td>\n",
       "      <td>6.0</td>\n",
       "      <td>2631.0</td>\n",
       "      <td>17.0</td>\n",
       "      <td>...</td>\n",
       "      <td>0.0</td>\n",
       "      <td>2.0</td>\n",
       "      <td>17.3</td>\n",
       "      <td>(875.25, 1249.5]</td>\n",
       "      <td>(0.498, 1.125]</td>\n",
       "      <td>(-0.019, 4.75]</td>\n",
       "      <td>(48.5, 64.0]</td>\n",
       "      <td>(5.0, 10.0]</td>\n",
       "      <td>(15.6, 20.9]</td>\n",
       "      <td>(2127.0, 3062.5]</td>\n",
       "    </tr>\n",
       "    <tr>\n",
       "      <th>2</th>\n",
       "      <td>563.0</td>\n",
       "      <td>1.0</td>\n",
       "      <td>0.5</td>\n",
       "      <td>1.0</td>\n",
       "      <td>2.0</td>\n",
       "      <td>1.0</td>\n",
       "      <td>41.0</td>\n",
       "      <td>6.0</td>\n",
       "      <td>2603.0</td>\n",
       "      <td>11.0</td>\n",
       "      <td>...</td>\n",
       "      <td>0.0</td>\n",
       "      <td>2.0</td>\n",
       "      <td>11.2</td>\n",
       "      <td>(499.503, 875.25]</td>\n",
       "      <td>(0.498, 1.125]</td>\n",
       "      <td>(-0.019, 4.75]</td>\n",
       "      <td>(33.0, 48.5]</td>\n",
       "      <td>(5.0, 10.0]</td>\n",
       "      <td>(10.3, 15.6]</td>\n",
       "      <td>(2127.0, 3062.5]</td>\n",
       "    </tr>\n",
       "    <tr>\n",
       "      <th>3</th>\n",
       "      <td>615.0</td>\n",
       "      <td>1.0</td>\n",
       "      <td>2.5</td>\n",
       "      <td>0.0</td>\n",
       "      <td>0.0</td>\n",
       "      <td>0.0</td>\n",
       "      <td>10.0</td>\n",
       "      <td>9.0</td>\n",
       "      <td>2769.0</td>\n",
       "      <td>16.0</td>\n",
       "      <td>...</td>\n",
       "      <td>0.0</td>\n",
       "      <td>2.0</td>\n",
       "      <td>17.9</td>\n",
       "      <td>(499.503, 875.25]</td>\n",
       "      <td>(2.375, 3.0]</td>\n",
       "      <td>(-0.019, 4.75]</td>\n",
       "      <td>(1.938, 17.5]</td>\n",
       "      <td>(5.0, 10.0]</td>\n",
       "      <td>(15.6, 20.9]</td>\n",
       "      <td>(2127.0, 3062.5]</td>\n",
       "    </tr>\n",
       "    <tr>\n",
       "      <th>4</th>\n",
       "      <td>1821.0</td>\n",
       "      <td>1.0</td>\n",
       "      <td>1.2</td>\n",
       "      <td>0.0</td>\n",
       "      <td>13.0</td>\n",
       "      <td>1.0</td>\n",
       "      <td>44.0</td>\n",
       "      <td>14.0</td>\n",
       "      <td>1411.0</td>\n",
       "      <td>8.0</td>\n",
       "      <td>...</td>\n",
       "      <td>0.0</td>\n",
       "      <td>1.0</td>\n",
       "      <td>8.2</td>\n",
       "      <td>(1623.75, 1998.0]</td>\n",
       "      <td>(1.125, 1.75]</td>\n",
       "      <td>(9.5, 14.25]</td>\n",
       "      <td>(33.0, 48.5]</td>\n",
       "      <td>(10.0, 15.0]</td>\n",
       "      <td>(4.979, 10.3]</td>\n",
       "      <td>(1191.5, 2127.0]</td>\n",
       "    </tr>\n",
       "    <tr>\n",
       "      <th>5</th>\n",
       "      <td>1859.0</td>\n",
       "      <td>0.0</td>\n",
       "      <td>0.5</td>\n",
       "      <td>1.0</td>\n",
       "      <td>3.0</td>\n",
       "      <td>0.0</td>\n",
       "      <td>22.0</td>\n",
       "      <td>7.0</td>\n",
       "      <td>1067.0</td>\n",
       "      <td>17.0</td>\n",
       "      <td>...</td>\n",
       "      <td>0.0</td>\n",
       "      <td>1.0</td>\n",
       "      <td>17.0</td>\n",
       "      <td>(1623.75, 1998.0]</td>\n",
       "      <td>(0.498, 1.125]</td>\n",
       "      <td>(-0.019, 4.75]</td>\n",
       "      <td>(17.5, 33.0]</td>\n",
       "      <td>(5.0, 10.0]</td>\n",
       "      <td>(15.6, 20.9]</td>\n",
       "      <td>(252.258, 1191.5]</td>\n",
       "    </tr>\n",
       "    <tr>\n",
       "      <th>6</th>\n",
       "      <td>1821.0</td>\n",
       "      <td>0.0</td>\n",
       "      <td>1.7</td>\n",
       "      <td>0.0</td>\n",
       "      <td>4.0</td>\n",
       "      <td>1.0</td>\n",
       "      <td>10.0</td>\n",
       "      <td>10.0</td>\n",
       "      <td>3220.0</td>\n",
       "      <td>13.0</td>\n",
       "      <td>...</td>\n",
       "      <td>1.0</td>\n",
       "      <td>3.0</td>\n",
       "      <td>15.3</td>\n",
       "      <td>(1623.75, 1998.0]</td>\n",
       "      <td>(1.125, 1.75]</td>\n",
       "      <td>(-0.019, 4.75]</td>\n",
       "      <td>(1.938, 17.5]</td>\n",
       "      <td>(5.0, 10.0]</td>\n",
       "      <td>(10.3, 15.6]</td>\n",
       "      <td>(3062.5, 3998.0]</td>\n",
       "    </tr>\n",
       "    <tr>\n",
       "      <th>7</th>\n",
       "      <td>1954.0</td>\n",
       "      <td>0.0</td>\n",
       "      <td>0.5</td>\n",
       "      <td>1.0</td>\n",
       "      <td>0.0</td>\n",
       "      <td>0.0</td>\n",
       "      <td>24.0</td>\n",
       "      <td>0.0</td>\n",
       "      <td>700.0</td>\n",
       "      <td>16.0</td>\n",
       "      <td>...</td>\n",
       "      <td>1.0</td>\n",
       "      <td>0.0</td>\n",
       "      <td>16.3</td>\n",
       "      <td>(1623.75, 1998.0]</td>\n",
       "      <td>(0.498, 1.125]</td>\n",
       "      <td>(-0.019, 4.75]</td>\n",
       "      <td>(17.5, 33.0]</td>\n",
       "      <td>(-0.02, 5.0]</td>\n",
       "      <td>(15.6, 20.9]</td>\n",
       "      <td>(252.258, 1191.5]</td>\n",
       "    </tr>\n",
       "    <tr>\n",
       "      <th>8</th>\n",
       "      <td>1445.0</td>\n",
       "      <td>1.0</td>\n",
       "      <td>0.5</td>\n",
       "      <td>0.0</td>\n",
       "      <td>0.0</td>\n",
       "      <td>0.0</td>\n",
       "      <td>53.0</td>\n",
       "      <td>14.0</td>\n",
       "      <td>1099.0</td>\n",
       "      <td>17.0</td>\n",
       "      <td>...</td>\n",
       "      <td>0.0</td>\n",
       "      <td>0.0</td>\n",
       "      <td>17.0</td>\n",
       "      <td>(1249.5, 1623.75]</td>\n",
       "      <td>(0.498, 1.125]</td>\n",
       "      <td>(-0.019, 4.75]</td>\n",
       "      <td>(48.5, 64.0]</td>\n",
       "      <td>(10.0, 15.0]</td>\n",
       "      <td>(15.6, 20.9]</td>\n",
       "      <td>(252.258, 1191.5]</td>\n",
       "    </tr>\n",
       "    <tr>\n",
       "      <th>9</th>\n",
       "      <td>509.0</td>\n",
       "      <td>1.0</td>\n",
       "      <td>0.6</td>\n",
       "      <td>1.0</td>\n",
       "      <td>2.0</td>\n",
       "      <td>1.0</td>\n",
       "      <td>9.0</td>\n",
       "      <td>15.0</td>\n",
       "      <td>513.0</td>\n",
       "      <td>19.0</td>\n",
       "      <td>...</td>\n",
       "      <td>0.0</td>\n",
       "      <td>0.0</td>\n",
       "      <td>21.5</td>\n",
       "      <td>(499.503, 875.25]</td>\n",
       "      <td>(0.498, 1.125]</td>\n",
       "      <td>(-0.019, 4.75]</td>\n",
       "      <td>(1.938, 17.5]</td>\n",
       "      <td>(10.0, 15.0]</td>\n",
       "      <td>(20.9, 26.2]</td>\n",
       "      <td>(252.258, 1191.5]</td>\n",
       "    </tr>\n",
       "  </tbody>\n",
       "</table>\n",
       "<p>10 rows × 23 columns</p>\n",
       "</div>"
      ],
      "text/plain": [
       "   battery_power  blue  clock_speed  dual_sim    fc  four_g  int_memory    pc  \\\n",
       "0          842.0   0.0          2.2       0.0   1.0     0.0         7.0   2.0   \n",
       "1         1021.0   1.0          0.5       1.0   0.0     1.0        53.0   6.0   \n",
       "2          563.0   1.0          0.5       1.0   2.0     1.0        41.0   6.0   \n",
       "3          615.0   1.0          2.5       0.0   0.0     0.0        10.0   9.0   \n",
       "4         1821.0   1.0          1.2       0.0  13.0     1.0        44.0  14.0   \n",
       "5         1859.0   0.0          0.5       1.0   3.0     0.0        22.0   7.0   \n",
       "6         1821.0   0.0          1.7       0.0   4.0     1.0        10.0  10.0   \n",
       "7         1954.0   0.0          0.5       1.0   0.0     0.0        24.0   0.0   \n",
       "8         1445.0   1.0          0.5       0.0   0.0     0.0        53.0  14.0   \n",
       "9          509.0   1.0          0.6       1.0   2.0     1.0         9.0  15.0   \n",
       "\n",
       "      ram  sc_h  ...  wifi  price_range  ph_size        BatteryBand  \\\n",
       "0  2549.0   9.0  ...   1.0          1.0     11.4  (499.503, 875.25]   \n",
       "1  2631.0  17.0  ...   0.0          2.0     17.3   (875.25, 1249.5]   \n",
       "2  2603.0  11.0  ...   0.0          2.0     11.2  (499.503, 875.25]   \n",
       "3  2769.0  16.0  ...   0.0          2.0     17.9  (499.503, 875.25]   \n",
       "4  1411.0   8.0  ...   0.0          1.0      8.2  (1623.75, 1998.0]   \n",
       "5  1067.0  17.0  ...   0.0          1.0     17.0  (1623.75, 1998.0]   \n",
       "6  3220.0  13.0  ...   1.0          3.0     15.3  (1623.75, 1998.0]   \n",
       "7   700.0  16.0  ...   1.0          0.0     16.3  (1623.75, 1998.0]   \n",
       "8  1099.0  17.0  ...   0.0          0.0     17.0  (1249.5, 1623.75]   \n",
       "9   513.0  19.0  ...   0.0          0.0     21.5  (499.503, 875.25]   \n",
       "\n",
       "        clockBand          fcBand     intmemBand        pcBand       sizeBand  \\\n",
       "0   (1.75, 2.375]  (-0.019, 4.75]  (1.938, 17.5]  (-0.02, 5.0]   (10.3, 15.6]   \n",
       "1  (0.498, 1.125]  (-0.019, 4.75]   (48.5, 64.0]   (5.0, 10.0]   (15.6, 20.9]   \n",
       "2  (0.498, 1.125]  (-0.019, 4.75]   (33.0, 48.5]   (5.0, 10.0]   (10.3, 15.6]   \n",
       "3    (2.375, 3.0]  (-0.019, 4.75]  (1.938, 17.5]   (5.0, 10.0]   (15.6, 20.9]   \n",
       "4   (1.125, 1.75]    (9.5, 14.25]   (33.0, 48.5]  (10.0, 15.0]  (4.979, 10.3]   \n",
       "5  (0.498, 1.125]  (-0.019, 4.75]   (17.5, 33.0]   (5.0, 10.0]   (15.6, 20.9]   \n",
       "6   (1.125, 1.75]  (-0.019, 4.75]  (1.938, 17.5]   (5.0, 10.0]   (10.3, 15.6]   \n",
       "7  (0.498, 1.125]  (-0.019, 4.75]   (17.5, 33.0]  (-0.02, 5.0]   (15.6, 20.9]   \n",
       "8  (0.498, 1.125]  (-0.019, 4.75]   (48.5, 64.0]  (10.0, 15.0]   (15.6, 20.9]   \n",
       "9  (0.498, 1.125]  (-0.019, 4.75]  (1.938, 17.5]  (10.0, 15.0]   (20.9, 26.2]   \n",
       "\n",
       "             ramBand  \n",
       "0   (2127.0, 3062.5]  \n",
       "1   (2127.0, 3062.5]  \n",
       "2   (2127.0, 3062.5]  \n",
       "3   (2127.0, 3062.5]  \n",
       "4   (1191.5, 2127.0]  \n",
       "5  (252.258, 1191.5]  \n",
       "6   (3062.5, 3998.0]  \n",
       "7  (252.258, 1191.5]  \n",
       "8  (252.258, 1191.5]  \n",
       "9  (252.258, 1191.5]  \n",
       "\n",
       "[10 rows x 23 columns]"
      ]
     },
     "execution_count": 20,
     "metadata": {},
     "output_type": "execute_result"
    }
   ],
   "source": [
    "# view the first 10 values of the train dataset\n",
    "train.head(10)"
   ]
  },
  {
   "cell_type": "markdown",
   "metadata": {
    "papermill": {
     "duration": 0.056633,
     "end_time": "2020-11-15T14:14:40.600288",
     "exception": false,
     "start_time": "2020-11-15T14:14:40.543655",
     "status": "completed"
    },
    "tags": []
   },
   "source": [
    "We can clearly see that the values present in the dataset are confusing.\n",
    "\n",
    "Not to mention the ranges we declared previously are a part of this dataset too, and need to be removed. \n",
    "\n",
    "But before that, I will use the ranges to segregate the data along the range of (0, 1, 2, 3), just like the price column, to get a neater and more accurate dataset. "
   ]
  },
  {
   "cell_type": "code",
   "execution_count": 21,
   "metadata": {
    "execution": {
     "iopub.execute_input": "2020-11-15T14:14:40.752938Z",
     "iopub.status.busy": "2020-11-15T14:14:40.733014Z",
     "iopub.status.idle": "2020-11-15T14:14:40.786307Z",
     "shell.execute_reply": "2020-11-15T14:14:40.785696Z"
    },
    "papermill": {
     "duration": 0.124862,
     "end_time": "2020-11-15T14:14:40.786432",
     "exception": false,
     "start_time": "2020-11-15T14:14:40.661570",
     "status": "completed"
    },
    "tags": []
   },
   "outputs": [
    {
     "data": {
      "text/html": [
       "<div>\n",
       "<style scoped>\n",
       "    .dataframe tbody tr th:only-of-type {\n",
       "        vertical-align: middle;\n",
       "    }\n",
       "\n",
       "    .dataframe tbody tr th {\n",
       "        vertical-align: top;\n",
       "    }\n",
       "\n",
       "    .dataframe thead th {\n",
       "        text-align: right;\n",
       "    }\n",
       "</style>\n",
       "<table border=\"1\" class=\"dataframe\">\n",
       "  <thead>\n",
       "    <tr style=\"text-align: right;\">\n",
       "      <th></th>\n",
       "      <th>battery_power</th>\n",
       "      <th>blue</th>\n",
       "      <th>clock_speed</th>\n",
       "      <th>dual_sim</th>\n",
       "      <th>fc</th>\n",
       "      <th>four_g</th>\n",
       "      <th>int_memory</th>\n",
       "      <th>pc</th>\n",
       "      <th>ram</th>\n",
       "      <th>three_g</th>\n",
       "      <th>touch_screen</th>\n",
       "      <th>wifi</th>\n",
       "      <th>price_range</th>\n",
       "      <th>ph_size</th>\n",
       "    </tr>\n",
       "  </thead>\n",
       "  <tbody>\n",
       "    <tr>\n",
       "      <th>0</th>\n",
       "      <td>0</td>\n",
       "      <td>0</td>\n",
       "      <td>2</td>\n",
       "      <td>0</td>\n",
       "      <td>0</td>\n",
       "      <td>0</td>\n",
       "      <td>0</td>\n",
       "      <td>0</td>\n",
       "      <td>2</td>\n",
       "      <td>0</td>\n",
       "      <td>0</td>\n",
       "      <td>1</td>\n",
       "      <td>1</td>\n",
       "      <td>1</td>\n",
       "    </tr>\n",
       "    <tr>\n",
       "      <th>1</th>\n",
       "      <td>1</td>\n",
       "      <td>1</td>\n",
       "      <td>0</td>\n",
       "      <td>1</td>\n",
       "      <td>0</td>\n",
       "      <td>1</td>\n",
       "      <td>3</td>\n",
       "      <td>1</td>\n",
       "      <td>2</td>\n",
       "      <td>1</td>\n",
       "      <td>1</td>\n",
       "      <td>0</td>\n",
       "      <td>2</td>\n",
       "      <td>2</td>\n",
       "    </tr>\n",
       "    <tr>\n",
       "      <th>2</th>\n",
       "      <td>0</td>\n",
       "      <td>1</td>\n",
       "      <td>0</td>\n",
       "      <td>1</td>\n",
       "      <td>0</td>\n",
       "      <td>1</td>\n",
       "      <td>2</td>\n",
       "      <td>1</td>\n",
       "      <td>2</td>\n",
       "      <td>1</td>\n",
       "      <td>1</td>\n",
       "      <td>0</td>\n",
       "      <td>2</td>\n",
       "      <td>1</td>\n",
       "    </tr>\n",
       "    <tr>\n",
       "      <th>3</th>\n",
       "      <td>0</td>\n",
       "      <td>1</td>\n",
       "      <td>3</td>\n",
       "      <td>0</td>\n",
       "      <td>0</td>\n",
       "      <td>0</td>\n",
       "      <td>0</td>\n",
       "      <td>1</td>\n",
       "      <td>2</td>\n",
       "      <td>1</td>\n",
       "      <td>0</td>\n",
       "      <td>0</td>\n",
       "      <td>2</td>\n",
       "      <td>2</td>\n",
       "    </tr>\n",
       "    <tr>\n",
       "      <th>4</th>\n",
       "      <td>3</td>\n",
       "      <td>1</td>\n",
       "      <td>1</td>\n",
       "      <td>0</td>\n",
       "      <td>2</td>\n",
       "      <td>1</td>\n",
       "      <td>2</td>\n",
       "      <td>2</td>\n",
       "      <td>1</td>\n",
       "      <td>1</td>\n",
       "      <td>1</td>\n",
       "      <td>0</td>\n",
       "      <td>1</td>\n",
       "      <td>0</td>\n",
       "    </tr>\n",
       "    <tr>\n",
       "      <th>...</th>\n",
       "      <td>...</td>\n",
       "      <td>...</td>\n",
       "      <td>...</td>\n",
       "      <td>...</td>\n",
       "      <td>...</td>\n",
       "      <td>...</td>\n",
       "      <td>...</td>\n",
       "      <td>...</td>\n",
       "      <td>...</td>\n",
       "      <td>...</td>\n",
       "      <td>...</td>\n",
       "      <td>...</td>\n",
       "      <td>...</td>\n",
       "      <td>...</td>\n",
       "    </tr>\n",
       "    <tr>\n",
       "      <th>1995</th>\n",
       "      <td>0</td>\n",
       "      <td>1</td>\n",
       "      <td>0</td>\n",
       "      <td>1</td>\n",
       "      <td>0</td>\n",
       "      <td>1</td>\n",
       "      <td>0</td>\n",
       "      <td>2</td>\n",
       "      <td>0</td>\n",
       "      <td>1</td>\n",
       "      <td>1</td>\n",
       "      <td>0</td>\n",
       "      <td>0</td>\n",
       "      <td>1</td>\n",
       "    </tr>\n",
       "    <tr>\n",
       "      <th>1996</th>\n",
       "      <td>3</td>\n",
       "      <td>1</td>\n",
       "      <td>3</td>\n",
       "      <td>1</td>\n",
       "      <td>0</td>\n",
       "      <td>0</td>\n",
       "      <td>2</td>\n",
       "      <td>0</td>\n",
       "      <td>1</td>\n",
       "      <td>1</td>\n",
       "      <td>1</td>\n",
       "      <td>1</td>\n",
       "      <td>2</td>\n",
       "      <td>1</td>\n",
       "    </tr>\n",
       "    <tr>\n",
       "      <th>1997</th>\n",
       "      <td>3</td>\n",
       "      <td>0</td>\n",
       "      <td>0</td>\n",
       "      <td>1</td>\n",
       "      <td>0</td>\n",
       "      <td>1</td>\n",
       "      <td>2</td>\n",
       "      <td>0</td>\n",
       "      <td>2</td>\n",
       "      <td>1</td>\n",
       "      <td>1</td>\n",
       "      <td>0</td>\n",
       "      <td>3</td>\n",
       "      <td>0</td>\n",
       "    </tr>\n",
       "    <tr>\n",
       "      <th>1998</th>\n",
       "      <td>2</td>\n",
       "      <td>0</td>\n",
       "      <td>0</td>\n",
       "      <td>0</td>\n",
       "      <td>0</td>\n",
       "      <td>1</td>\n",
       "      <td>2</td>\n",
       "      <td>0</td>\n",
       "      <td>0</td>\n",
       "      <td>1</td>\n",
       "      <td>1</td>\n",
       "      <td>1</td>\n",
       "      <td>0</td>\n",
       "      <td>2</td>\n",
       "    </tr>\n",
       "    <tr>\n",
       "      <th>1999</th>\n",
       "      <td>0</td>\n",
       "      <td>1</td>\n",
       "      <td>2</td>\n",
       "      <td>1</td>\n",
       "      <td>1</td>\n",
       "      <td>1</td>\n",
       "      <td>2</td>\n",
       "      <td>3</td>\n",
       "      <td>3</td>\n",
       "      <td>1</td>\n",
       "      <td>1</td>\n",
       "      <td>1</td>\n",
       "      <td>3</td>\n",
       "      <td>2</td>\n",
       "    </tr>\n",
       "  </tbody>\n",
       "</table>\n",
       "<p>2000 rows × 14 columns</p>\n",
       "</div>"
      ],
      "text/plain": [
       "      battery_power  blue  clock_speed  dual_sim  fc  four_g  int_memory  pc  \\\n",
       "0                 0     0            2         0   0       0           0   0   \n",
       "1                 1     1            0         1   0       1           3   1   \n",
       "2                 0     1            0         1   0       1           2   1   \n",
       "3                 0     1            3         0   0       0           0   1   \n",
       "4                 3     1            1         0   2       1           2   2   \n",
       "...             ...   ...          ...       ...  ..     ...         ...  ..   \n",
       "1995              0     1            0         1   0       1           0   2   \n",
       "1996              3     1            3         1   0       0           2   0   \n",
       "1997              3     0            0         1   0       1           2   0   \n",
       "1998              2     0            0         0   0       1           2   0   \n",
       "1999              0     1            2         1   1       1           2   3   \n",
       "\n",
       "      ram  three_g  touch_screen  wifi  price_range  ph_size  \n",
       "0       2        0             0     1            1        1  \n",
       "1       2        1             1     0            2        2  \n",
       "2       2        1             1     0            2        1  \n",
       "3       2        1             0     0            2        2  \n",
       "4       1        1             1     0            1        0  \n",
       "...   ...      ...           ...   ...          ...      ...  \n",
       "1995    0        1             1     0            0        1  \n",
       "1996    1        1             1     1            2        1  \n",
       "1997    2        1             1     0            3        0  \n",
       "1998    0        1             1     1            0        2  \n",
       "1999    3        1             1     1            3        2  \n",
       "\n",
       "[2000 rows x 14 columns]"
      ]
     },
     "execution_count": 21,
     "metadata": {},
     "output_type": "execute_result"
    }
   ],
   "source": [
    "# segregate battery_power\n",
    "train.loc[ train['battery_power'] <= 875.25, 'battery_power'] = 0\n",
    "train.loc[(train['battery_power'] > 875.25) & (train['battery_power'] <= 1249.5), 'battery_power'] = 1\n",
    "train.loc[(train['battery_power'] > 1249.5) & (train['battery_power'] <= 1623.75), 'battery_power'] = 2\n",
    "train.loc[ train['battery_power'] > 1623.75, 'battery_power'] = 3\n",
    "\n",
    "# segregate clock_speed\n",
    "train.loc[ train['clock_speed'] <= 1.125, 'clock_speed'] = 0\n",
    "train.loc[(train['clock_speed'] > 1.125) & (train['clock_speed'] <= 1.75), 'clock_speed'] = 1\n",
    "train.loc[(train['clock_speed'] > 1.75) & (train['clock_speed'] <= 2.375), 'clock_speed'] = 2\n",
    "train.loc[ train['clock_speed'] > 2.375, 'clock_speed'] = 3\n",
    "\n",
    "# segregate fc\n",
    "train.loc[ train['fc'] <= 4.75, 'fc'] = 0\n",
    "train.loc[(train['fc'] > 4.75) & (train['fc'] <= 9.5), 'fc'] = 1\n",
    "train.loc[(train['fc'] > 9.5) & (train['fc'] <= 14.25), 'fc'] = 2\n",
    "train.loc[ train['fc'] > 14.25, 'fc'] = 3\n",
    "\n",
    "# segregate int_memory\n",
    "train.loc[ train['int_memory'] <= 17.5, 'int_memory'] = 0\n",
    "train.loc[(train['int_memory'] > 17.5) & (train['int_memory'] <= 33), 'int_memory'] = 1\n",
    "train.loc[(train['int_memory'] > 33) & (train['int_memory'] <= 48.5), 'int_memory'] = 2\n",
    "train.loc[ train['int_memory'] > 48.5, 'int_memory'] = 3\n",
    "\n",
    "# segregate pc\n",
    "train.loc[ train['pc'] <= 5, 'pc'] = 0\n",
    "train.loc[(train['pc'] > 5) & (train['pc'] <= 10), 'pc'] = 1\n",
    "train.loc[(train['pc'] > 10) & (train['pc'] <= 15), 'pc'] = 2\n",
    "train.loc[ train['pc'] > 15, 'pc'] = 3\n",
    "\n",
    "# segregate ram\n",
    "train.loc[ train['ram'] <= 1191.5, 'ram'] = 0\n",
    "train.loc[(train['ram'] > 1191.5) & (train['ram'] <= 2127), 'ram'] = 1\n",
    "train.loc[(train['ram'] > 2127) & (train['ram'] <= 3062.5), 'ram'] = 2\n",
    "train.loc[ train['ram'] > 3062.5, 'ram'] = 3\n",
    "\n",
    "# segregate ph_size\n",
    "train.loc[ train['ph_size'] <= 10.3, 'ph_size'] = 0\n",
    "train.loc[(train['ph_size'] > 10.3) & (train['ph_size'] <= 15.6), 'ph_size'] = 1\n",
    "train.loc[(train['ph_size'] > 15.6) & (train['ph_size'] <= 20.9), 'ph_size'] = 2\n",
    "train.loc[ train['ph_size'] > 20.9, 'ph_size'] = 3\n",
    "\n",
    "# drop the remaining unwanted columns\n",
    "train = train.drop(['sc_h', 'sc_w', 'BatteryBand', 'clockBand', 'fcBand', 'intmemBand', 'pcBand', 'sizeBand', 'ramBand'], axis=1)\n",
    "\n",
    "# convert the dataset to an integer type\n",
    "train = train.astype(int)\n",
    "\n",
    "#display the whole dataset\n",
    "train"
   ]
  },
  {
   "cell_type": "markdown",
   "metadata": {
    "papermill": {
     "duration": 0.063211,
     "end_time": "2020-11-15T14:14:40.906931",
     "exception": false,
     "start_time": "2020-11-15T14:14:40.843720",
     "status": "completed"
    },
    "tags": []
   },
   "source": [
    "The dataset looks much neater, and is now ready to be used for predictions. \n",
    "\n",
    "But before that, we need to do the same operations we have done to the training dataset throughout this project and bring it up to the same valuations that are present in the train dataset. \n",
    "\n",
    "That means - \n",
    "* introduction of the diagonal screen size\n",
    "* conversion of data values into ranges\n",
    "* cleaning any remaining columns\n",
    "* converting dataset to integer type"
   ]
  },
  {
   "cell_type": "code",
   "execution_count": 22,
   "metadata": {
    "execution": {
     "iopub.execute_input": "2020-11-15T14:14:41.031546Z",
     "iopub.status.busy": "2020-11-15T14:14:41.030458Z",
     "iopub.status.idle": "2020-11-15T14:14:41.090403Z",
     "shell.execute_reply": "2020-11-15T14:14:41.089737Z"
    },
    "papermill": {
     "duration": 0.126505,
     "end_time": "2020-11-15T14:14:41.090540",
     "exception": false,
     "start_time": "2020-11-15T14:14:40.964035",
     "status": "completed"
    },
    "tags": []
   },
   "outputs": [
    {
     "data": {
      "text/html": [
       "<div>\n",
       "<style scoped>\n",
       "    .dataframe tbody tr th:only-of-type {\n",
       "        vertical-align: middle;\n",
       "    }\n",
       "\n",
       "    .dataframe tbody tr th {\n",
       "        vertical-align: top;\n",
       "    }\n",
       "\n",
       "    .dataframe thead th {\n",
       "        text-align: right;\n",
       "    }\n",
       "</style>\n",
       "<table border=\"1\" class=\"dataframe\">\n",
       "  <thead>\n",
       "    <tr style=\"text-align: right;\">\n",
       "      <th></th>\n",
       "      <th>id</th>\n",
       "      <th>battery_power</th>\n",
       "      <th>blue</th>\n",
       "      <th>clock_speed</th>\n",
       "      <th>dual_sim</th>\n",
       "      <th>fc</th>\n",
       "      <th>four_g</th>\n",
       "      <th>int_memory</th>\n",
       "      <th>pc</th>\n",
       "      <th>ram</th>\n",
       "      <th>three_g</th>\n",
       "      <th>touch_screen</th>\n",
       "      <th>wifi</th>\n",
       "      <th>ph_size</th>\n",
       "    </tr>\n",
       "  </thead>\n",
       "  <tbody>\n",
       "    <tr>\n",
       "      <th>0</th>\n",
       "      <td>1</td>\n",
       "      <td>1</td>\n",
       "      <td>1</td>\n",
       "      <td>2</td>\n",
       "      <td>1</td>\n",
       "      <td>2</td>\n",
       "      <td>0</td>\n",
       "      <td>0</td>\n",
       "      <td>3</td>\n",
       "      <td>3</td>\n",
       "      <td>0</td>\n",
       "      <td>1</td>\n",
       "      <td>0</td>\n",
       "      <td>1</td>\n",
       "    </tr>\n",
       "    <tr>\n",
       "      <th>1</th>\n",
       "      <td>2</td>\n",
       "      <td>0</td>\n",
       "      <td>1</td>\n",
       "      <td>0</td>\n",
       "      <td>1</td>\n",
       "      <td>0</td>\n",
       "      <td>1</td>\n",
       "      <td>3</td>\n",
       "      <td>2</td>\n",
       "      <td>3</td>\n",
       "      <td>1</td>\n",
       "      <td>0</td>\n",
       "      <td>0</td>\n",
       "      <td>0</td>\n",
       "    </tr>\n",
       "    <tr>\n",
       "      <th>2</th>\n",
       "      <td>3</td>\n",
       "      <td>3</td>\n",
       "      <td>1</td>\n",
       "      <td>2</td>\n",
       "      <td>0</td>\n",
       "      <td>0</td>\n",
       "      <td>0</td>\n",
       "      <td>1</td>\n",
       "      <td>0</td>\n",
       "      <td>2</td>\n",
       "      <td>0</td>\n",
       "      <td>1</td>\n",
       "      <td>1</td>\n",
       "      <td>2</td>\n",
       "    </tr>\n",
       "    <tr>\n",
       "      <th>3</th>\n",
       "      <td>4</td>\n",
       "      <td>2</td>\n",
       "      <td>0</td>\n",
       "      <td>3</td>\n",
       "      <td>1</td>\n",
       "      <td>3</td>\n",
       "      <td>1</td>\n",
       "      <td>1</td>\n",
       "      <td>3</td>\n",
       "      <td>3</td>\n",
       "      <td>1</td>\n",
       "      <td>1</td>\n",
       "      <td>0</td>\n",
       "      <td>0</td>\n",
       "    </tr>\n",
       "    <tr>\n",
       "      <th>4</th>\n",
       "      <td>5</td>\n",
       "      <td>2</td>\n",
       "      <td>0</td>\n",
       "      <td>1</td>\n",
       "      <td>0</td>\n",
       "      <td>2</td>\n",
       "      <td>1</td>\n",
       "      <td>3</td>\n",
       "      <td>3</td>\n",
       "      <td>1</td>\n",
       "      <td>1</td>\n",
       "      <td>0</td>\n",
       "      <td>1</td>\n",
       "      <td>2</td>\n",
       "    </tr>\n",
       "    <tr>\n",
       "      <th>...</th>\n",
       "      <td>...</td>\n",
       "      <td>...</td>\n",
       "      <td>...</td>\n",
       "      <td>...</td>\n",
       "      <td>...</td>\n",
       "      <td>...</td>\n",
       "      <td>...</td>\n",
       "      <td>...</td>\n",
       "      <td>...</td>\n",
       "      <td>...</td>\n",
       "      <td>...</td>\n",
       "      <td>...</td>\n",
       "      <td>...</td>\n",
       "      <td>...</td>\n",
       "    </tr>\n",
       "    <tr>\n",
       "      <th>995</th>\n",
       "      <td>996</td>\n",
       "      <td>3</td>\n",
       "      <td>1</td>\n",
       "      <td>2</td>\n",
       "      <td>0</td>\n",
       "      <td>0</td>\n",
       "      <td>1</td>\n",
       "      <td>3</td>\n",
       "      <td>3</td>\n",
       "      <td>1</td>\n",
       "      <td>1</td>\n",
       "      <td>1</td>\n",
       "      <td>0</td>\n",
       "      <td>2</td>\n",
       "    </tr>\n",
       "    <tr>\n",
       "      <th>996</th>\n",
       "      <td>997</td>\n",
       "      <td>0</td>\n",
       "      <td>0</td>\n",
       "      <td>2</td>\n",
       "      <td>1</td>\n",
       "      <td>0</td>\n",
       "      <td>0</td>\n",
       "      <td>0</td>\n",
       "      <td>0</td>\n",
       "      <td>1</td>\n",
       "      <td>0</td>\n",
       "      <td>1</td>\n",
       "      <td>1</td>\n",
       "      <td>0</td>\n",
       "    </tr>\n",
       "    <tr>\n",
       "      <th>997</th>\n",
       "      <td>998</td>\n",
       "      <td>1</td>\n",
       "      <td>0</td>\n",
       "      <td>1</td>\n",
       "      <td>0</td>\n",
       "      <td>0</td>\n",
       "      <td>1</td>\n",
       "      <td>0</td>\n",
       "      <td>2</td>\n",
       "      <td>1</td>\n",
       "      <td>1</td>\n",
       "      <td>0</td>\n",
       "      <td>0</td>\n",
       "      <td>0</td>\n",
       "    </tr>\n",
       "    <tr>\n",
       "      <th>998</th>\n",
       "      <td>999</td>\n",
       "      <td>2</td>\n",
       "      <td>1</td>\n",
       "      <td>0</td>\n",
       "      <td>1</td>\n",
       "      <td>0</td>\n",
       "      <td>0</td>\n",
       "      <td>3</td>\n",
       "      <td>2</td>\n",
       "      <td>2</td>\n",
       "      <td>0</td>\n",
       "      <td>1</td>\n",
       "      <td>0</td>\n",
       "      <td>2</td>\n",
       "    </tr>\n",
       "    <tr>\n",
       "      <th>999</th>\n",
       "      <td>1000</td>\n",
       "      <td>2</td>\n",
       "      <td>1</td>\n",
       "      <td>3</td>\n",
       "      <td>0</td>\n",
       "      <td>0</td>\n",
       "      <td>1</td>\n",
       "      <td>2</td>\n",
       "      <td>3</td>\n",
       "      <td>2</td>\n",
       "      <td>1</td>\n",
       "      <td>0</td>\n",
       "      <td>1</td>\n",
       "      <td>0</td>\n",
       "    </tr>\n",
       "  </tbody>\n",
       "</table>\n",
       "<p>1000 rows × 14 columns</p>\n",
       "</div>"
      ],
      "text/plain": [
       "       id  battery_power  blue  clock_speed  dual_sim  fc  four_g  int_memory  \\\n",
       "0       1              1     1            2         1   2       0           0   \n",
       "1       2              0     1            0         1   0       1           3   \n",
       "2       3              3     1            2         0   0       0           1   \n",
       "3       4              2     0            3         1   3       1           1   \n",
       "4       5              2     0            1         0   2       1           3   \n",
       "..    ...            ...   ...          ...       ...  ..     ...         ...   \n",
       "995   996              3     1            2         0   0       1           3   \n",
       "996   997              0     0            2         1   0       0           0   \n",
       "997   998              1     0            1         0   0       1           0   \n",
       "998   999              2     1            0         1   0       0           3   \n",
       "999  1000              2     1            3         0   0       1           2   \n",
       "\n",
       "     pc  ram  three_g  touch_screen  wifi  ph_size  \n",
       "0     3    3        0             1     0        1  \n",
       "1     2    3        1             0     0        0  \n",
       "2     0    2        0             1     1        2  \n",
       "3     3    3        1             1     0        0  \n",
       "4     3    1        1             0     1        2  \n",
       "..   ..  ...      ...           ...   ...      ...  \n",
       "995   3    1        1             1     0        2  \n",
       "996   0    1        0             1     1        0  \n",
       "997   2    1        1             0     0        0  \n",
       "998   2    2        0             1     0        2  \n",
       "999   3    2        1             0     1        0  \n",
       "\n",
       "[1000 rows x 14 columns]"
      ]
     },
     "execution_count": 22,
     "metadata": {},
     "output_type": "execute_result"
    }
   ],
   "source": [
    "# convert screen height and width into one screen size column\n",
    "test['ph_size'] = np.sqrt(test[\"sc_h\"]**2 + test[\"sc_w\"]**2)\n",
    "test['ph_size'] = test['ph_size'].round(decimals=1)\n",
    "\n",
    "# segregate battery_power\n",
    "test.loc[ test['battery_power'] <= 875.25, 'battery_power'] = 0\n",
    "test.loc[(test['battery_power'] > 875.25) & (test['battery_power'] <= 1249.5), 'battery_power'] = 1\n",
    "test.loc[(test['battery_power'] > 1249.5) & (test['battery_power'] <= 1623.75), 'battery_power'] = 2\n",
    "test.loc[ test['battery_power'] > 1623.75, 'battery_power'] = 3\n",
    "\n",
    "# segregate clock_speed\n",
    "test.loc[ test['clock_speed'] <= 1.125, 'clock_speed'] = 0\n",
    "test.loc[(test['clock_speed'] > 1.125) & (test['clock_speed'] <= 1.75), 'clock_speed'] = 1\n",
    "test.loc[(test['clock_speed'] > 1.75) & (test['clock_speed'] <= 2.375), 'clock_speed'] = 2\n",
    "test.loc[ train['clock_speed'] > 2.375, 'clock_speed'] = 3\n",
    "\n",
    "# segregate fc\n",
    "test.loc[ test['fc'] <= 4.75, 'fc'] = 0\n",
    "test.loc[(test['fc'] > 4.75) & (test['fc'] <= 9.5), 'fc'] = 1\n",
    "test.loc[(test['fc'] > 9.5) & (test['fc'] <= 14.25), 'fc'] = 2\n",
    "test.loc[ test['fc'] > 14.25, 'fc'] = 3\n",
    "\n",
    "# segregate int_memory\n",
    "test.loc[ test['int_memory'] <= 17.5, 'int_memory'] = 0\n",
    "test.loc[(test['int_memory'] > 17.5) & (test['int_memory'] <= 33), 'int_memory'] = 1\n",
    "test.loc[(test['int_memory'] > 33) & (test['int_memory'] <= 48.5), 'int_memory'] = 2\n",
    "test.loc[ test['int_memory'] > 48.5, 'int_memory'] = 3\n",
    "\n",
    "# segregate pc\n",
    "test.loc[ test['pc'] <= 5, 'pc'] = 0\n",
    "test.loc[(test['pc'] > 5) & (test['pc'] <= 10), 'pc'] = 1\n",
    "test.loc[(test['pc'] > 10) & (test['pc'] <= 15), 'pc'] = 2\n",
    "test.loc[ test['pc'] > 15, 'pc'] = 3\n",
    "\n",
    "# segregate ram\n",
    "test.loc[ test['ram'] <= 1191.5, 'ram'] = 0\n",
    "test.loc[(test['ram'] > 1191.5) & (test['ram'] <= 2127), 'ram'] = 1\n",
    "test.loc[(test['ram'] > 2127) & (test['ram'] <= 3062.5), 'ram'] = 2\n",
    "test.loc[ test['ram'] > 3062.5, 'ram'] = 3\n",
    "\n",
    "# segregate ph_size\n",
    "test.loc[ test['ph_size'] <= 10.3, 'ph_size'] = 0\n",
    "test.loc[(test['ph_size'] > 10.3) & (test['ph_size'] <= 15.6), 'ph_size'] = 1\n",
    "test.loc[(test['ph_size'] > 15.6) & (test['ph_size'] <= 20.9), 'ph_size'] = 2\n",
    "test.loc[ test['ph_size'] > 20.9, 'ph_size'] = 3\n",
    "\n",
    "# drop the remaining unwanted columns\n",
    "test = test.drop(['sc_h', 'sc_w', 'm_dep', 'mobile_wt', 'n_cores', 'px_height', 'px_width', 'talk_time'], axis=1)\n",
    "\n",
    "# convert the dataset to an integer type\n",
    "test = test.astype(int)\n",
    "\n",
    "# view the whole dataset\n",
    "test"
   ]
  },
  {
   "cell_type": "markdown",
   "metadata": {
    "papermill": {
     "duration": 0.057876,
     "end_time": "2020-11-15T14:14:41.205669",
     "exception": false,
     "start_time": "2020-11-15T14:14:41.147793",
     "status": "completed"
    },
    "tags": []
   },
   "source": [
    "Now both our datasets are finally ready to be used for prediction of the price ranges in the test dataset. \n",
    "\n",
    "Let us start with individual classification algorithms and see which ives us the best performance. "
   ]
  },
  {
   "cell_type": "markdown",
   "metadata": {
    "papermill": {
     "duration": 0.05806,
     "end_time": "2020-11-15T14:14:41.321800",
     "exception": false,
     "start_time": "2020-11-15T14:14:41.263740",
     "status": "completed"
    },
    "tags": []
   },
   "source": [
    "In order to do that, we first need to assign the values to X-train, Y_train and X_test"
   ]
  },
  {
   "cell_type": "code",
   "execution_count": 23,
   "metadata": {
    "execution": {
     "iopub.execute_input": "2020-11-15T14:14:41.448862Z",
     "iopub.status.busy": "2020-11-15T14:14:41.448017Z",
     "iopub.status.idle": "2020-11-15T14:14:41.453209Z",
     "shell.execute_reply": "2020-11-15T14:14:41.452718Z"
    },
    "papermill": {
     "duration": 0.073118,
     "end_time": "2020-11-15T14:14:41.453331",
     "exception": false,
     "start_time": "2020-11-15T14:14:41.380213",
     "status": "completed"
    },
    "tags": []
   },
   "outputs": [
    {
     "data": {
      "text/plain": [
       "((2000, 13), (2000,), (1000, 13))"
      ]
     },
     "execution_count": 23,
     "metadata": {},
     "output_type": "execute_result"
    }
   ],
   "source": [
    "X_train = train.drop(\"price_range\", axis=1)\n",
    "Y_train = train[\"price_range\"]\n",
    "X_test  = test.drop(['id'], axis=1).copy()\n",
    "X_train.shape, Y_train.shape, X_test.shape"
   ]
  },
  {
   "cell_type": "markdown",
   "metadata": {
    "papermill": {
     "duration": 0.061923,
     "end_time": "2020-11-15T14:14:41.585123",
     "exception": false,
     "start_time": "2020-11-15T14:14:41.523200",
     "status": "completed"
    },
    "tags": []
   },
   "source": [
    "#### Support Vector Classification Algorithm"
   ]
  },
  {
   "cell_type": "code",
   "execution_count": 24,
   "metadata": {
    "execution": {
     "iopub.execute_input": "2020-11-15T14:14:41.711722Z",
     "iopub.status.busy": "2020-11-15T14:14:41.711087Z",
     "iopub.status.idle": "2020-11-15T14:14:42.011295Z",
     "shell.execute_reply": "2020-11-15T14:14:42.011868Z"
    },
    "papermill": {
     "duration": 0.366356,
     "end_time": "2020-11-15T14:14:42.012032",
     "exception": false,
     "start_time": "2020-11-15T14:14:41.645676",
     "status": "completed"
    },
    "tags": []
   },
   "outputs": [
    {
     "data": {
      "text/plain": [
       "76.05"
      ]
     },
     "execution_count": 24,
     "metadata": {},
     "output_type": "execute_result"
    }
   ],
   "source": [
    "svc = SVC()\n",
    "svc.fit(X_train, Y_train)\n",
    "Y_pred = svc.predict(X_test)\n",
    "acc_svc = round(svc.score(X_train, Y_train) * 100, 2)\n",
    "acc_svc"
   ]
  },
  {
   "cell_type": "markdown",
   "metadata": {
    "papermill": {
     "duration": 0.058197,
     "end_time": "2020-11-15T14:14:42.129257",
     "exception": false,
     "start_time": "2020-11-15T14:14:42.071060",
     "status": "completed"
    },
    "tags": []
   },
   "source": [
    "#### K Neighbours or K-Nearest Neughbours Classification Algorithm"
   ]
  },
  {
   "cell_type": "code",
   "execution_count": 25,
   "metadata": {
    "execution": {
     "iopub.execute_input": "2020-11-15T14:14:42.255746Z",
     "iopub.status.busy": "2020-11-15T14:14:42.255012Z",
     "iopub.status.idle": "2020-11-15T14:14:42.448179Z",
     "shell.execute_reply": "2020-11-15T14:14:42.447651Z"
    },
    "papermill": {
     "duration": 0.259503,
     "end_time": "2020-11-15T14:14:42.448291",
     "exception": false,
     "start_time": "2020-11-15T14:14:42.188788",
     "status": "completed"
    },
    "tags": []
   },
   "outputs": [
    {
     "data": {
      "text/plain": [
       "76.95"
      ]
     },
     "execution_count": 25,
     "metadata": {},
     "output_type": "execute_result"
    }
   ],
   "source": [
    "knn = KNeighborsClassifier(n_neighbors = 3)\n",
    "knn.fit(X_train, Y_train)\n",
    "Y_pred = knn.predict(X_test)\n",
    "acc_knn = round(knn.score(X_train, Y_train) * 100, 2)\n",
    "acc_knn"
   ]
  },
  {
   "cell_type": "markdown",
   "metadata": {
    "papermill": {
     "duration": 0.058421,
     "end_time": "2020-11-15T14:14:42.565496",
     "exception": false,
     "start_time": "2020-11-15T14:14:42.507075",
     "status": "completed"
    },
    "tags": []
   },
   "source": [
    "#### Gaussian Naive Bayes Classification Algorithm"
   ]
  },
  {
   "cell_type": "code",
   "execution_count": 26,
   "metadata": {
    "execution": {
     "iopub.execute_input": "2020-11-15T14:14:42.692176Z",
     "iopub.status.busy": "2020-11-15T14:14:42.691529Z",
     "iopub.status.idle": "2020-11-15T14:14:42.702570Z",
     "shell.execute_reply": "2020-11-15T14:14:42.701907Z"
    },
    "papermill": {
     "duration": 0.077451,
     "end_time": "2020-11-15T14:14:42.702685",
     "exception": false,
     "start_time": "2020-11-15T14:14:42.625234",
     "status": "completed"
    },
    "tags": []
   },
   "outputs": [
    {
     "data": {
      "text/plain": [
       "75.45"
      ]
     },
     "execution_count": 26,
     "metadata": {},
     "output_type": "execute_result"
    }
   ],
   "source": [
    "gaussian = GaussianNB()\n",
    "gaussian.fit(X_train, Y_train)\n",
    "Y_pred = gaussian.predict(X_test)\n",
    "acc_gaussian = round(gaussian.score(X_train, Y_train) * 100, 2)\n",
    "acc_gaussian"
   ]
  },
  {
   "cell_type": "markdown",
   "metadata": {
    "papermill": {
     "duration": 0.05871,
     "end_time": "2020-11-15T14:14:42.821203",
     "exception": false,
     "start_time": "2020-11-15T14:14:42.762493",
     "status": "completed"
    },
    "tags": []
   },
   "source": [
    "#### Perceptron Classification Algorithm"
   ]
  },
  {
   "cell_type": "code",
   "execution_count": 27,
   "metadata": {
    "execution": {
     "iopub.execute_input": "2020-11-15T14:14:42.963271Z",
     "iopub.status.busy": "2020-11-15T14:14:42.962156Z",
     "iopub.status.idle": "2020-11-15T14:14:42.985199Z",
     "shell.execute_reply": "2020-11-15T14:14:42.984410Z"
    },
    "papermill": {
     "duration": 0.095017,
     "end_time": "2020-11-15T14:14:42.985347",
     "exception": false,
     "start_time": "2020-11-15T14:14:42.890330",
     "status": "completed"
    },
    "tags": []
   },
   "outputs": [
    {
     "data": {
      "text/plain": [
       "61.35"
      ]
     },
     "execution_count": 27,
     "metadata": {},
     "output_type": "execute_result"
    }
   ],
   "source": [
    "perceptron = Perceptron()\n",
    "perceptron.fit(X_train, Y_train)\n",
    "Y_pred = perceptron.predict(X_test)\n",
    "acc_perceptron = round(perceptron.score(X_train, Y_train) * 100, 2)\n",
    "acc_perceptron"
   ]
  },
  {
   "cell_type": "markdown",
   "metadata": {
    "papermill": {
     "duration": 0.059496,
     "end_time": "2020-11-15T14:14:43.110232",
     "exception": false,
     "start_time": "2020-11-15T14:14:43.050736",
     "status": "completed"
    },
    "tags": []
   },
   "source": [
    "#### Stochastic Gradient Classification Algorithm"
   ]
  },
  {
   "cell_type": "code",
   "execution_count": 28,
   "metadata": {
    "execution": {
     "iopub.execute_input": "2020-11-15T14:14:43.238721Z",
     "iopub.status.busy": "2020-11-15T14:14:43.237735Z",
     "iopub.status.idle": "2020-11-15T14:14:43.298863Z",
     "shell.execute_reply": "2020-11-15T14:14:43.298285Z"
    },
    "papermill": {
     "duration": 0.128139,
     "end_time": "2020-11-15T14:14:43.298981",
     "exception": false,
     "start_time": "2020-11-15T14:14:43.170842",
     "status": "completed"
    },
    "tags": []
   },
   "outputs": [
    {
     "data": {
      "text/plain": [
       "65.35"
      ]
     },
     "execution_count": 28,
     "metadata": {},
     "output_type": "execute_result"
    }
   ],
   "source": [
    "sgd = SGDClassifier()\n",
    "sgd.fit(X_train, Y_train)\n",
    "Y_pred = sgd.predict(X_test)\n",
    "acc_sgd = round(sgd.score(X_train, Y_train) * 100, 2)\n",
    "acc_sgd"
   ]
  },
  {
   "cell_type": "markdown",
   "metadata": {
    "papermill": {
     "duration": 0.059822,
     "end_time": "2020-11-15T14:14:43.419774",
     "exception": false,
     "start_time": "2020-11-15T14:14:43.359952",
     "status": "completed"
    },
    "tags": []
   },
   "source": [
    "#### Decision Tree Classification Algorithm"
   ]
  },
  {
   "cell_type": "code",
   "execution_count": 29,
   "metadata": {
    "execution": {
     "iopub.execute_input": "2020-11-15T14:14:43.549647Z",
     "iopub.status.busy": "2020-11-15T14:14:43.548939Z",
     "iopub.status.idle": "2020-11-15T14:14:43.566665Z",
     "shell.execute_reply": "2020-11-15T14:14:43.565997Z"
    },
    "papermill": {
     "duration": 0.085138,
     "end_time": "2020-11-15T14:14:43.566779",
     "exception": false,
     "start_time": "2020-11-15T14:14:43.481641",
     "status": "completed"
    },
    "tags": []
   },
   "outputs": [
    {
     "data": {
      "text/plain": [
       "99.75"
      ]
     },
     "execution_count": 29,
     "metadata": {},
     "output_type": "execute_result"
    }
   ],
   "source": [
    "decision_tree = DecisionTreeClassifier()\n",
    "decision_tree.fit(X_train, Y_train)\n",
    "Y_pred = decision_tree.predict(X_test)\n",
    "acc_decision_tree = round(decision_tree.score(X_train, Y_train) * 100, 2)\n",
    "acc_decision_tree"
   ]
  },
  {
   "cell_type": "markdown",
   "metadata": {
    "papermill": {
     "duration": 0.059933,
     "end_time": "2020-11-15T14:14:43.688533",
     "exception": false,
     "start_time": "2020-11-15T14:14:43.628600",
     "status": "completed"
    },
    "tags": []
   },
   "source": [
    "#### Random Forest Classification Algorithm"
   ]
  },
  {
   "cell_type": "code",
   "execution_count": 30,
   "metadata": {
    "execution": {
     "iopub.execute_input": "2020-11-15T14:14:43.817080Z",
     "iopub.status.busy": "2020-11-15T14:14:43.816439Z",
     "iopub.status.idle": "2020-11-15T14:14:44.280763Z",
     "shell.execute_reply": "2020-11-15T14:14:44.280242Z"
    },
    "papermill": {
     "duration": 0.532249,
     "end_time": "2020-11-15T14:14:44.280880",
     "exception": false,
     "start_time": "2020-11-15T14:14:43.748631",
     "status": "completed"
    },
    "tags": []
   },
   "outputs": [
    {
     "data": {
      "text/plain": [
       "99.75"
      ]
     },
     "execution_count": 30,
     "metadata": {},
     "output_type": "execute_result"
    }
   ],
   "source": [
    "random_forest = RandomForestClassifier(n_estimators=100)\n",
    "random_forest.fit(X_train, Y_train)\n",
    "Y_pred = random_forest.predict(X_test)\n",
    "random_forest.score(X_train, Y_train)\n",
    "acc_random_forest = round(random_forest.score(X_train, Y_train) * 100, 2)\n",
    "acc_random_forest"
   ]
  },
  {
   "cell_type": "markdown",
   "metadata": {
    "papermill": {
     "duration": 0.061293,
     "end_time": "2020-11-15T14:14:44.405057",
     "exception": false,
     "start_time": "2020-11-15T14:14:44.343764",
     "status": "completed"
    },
    "tags": []
   },
   "source": [
    "Now that we have our individual scores, it is time to see which classification algorith gave us the best success rate. "
   ]
  },
  {
   "cell_type": "code",
   "execution_count": 31,
   "metadata": {
    "execution": {
     "iopub.execute_input": "2020-11-15T14:14:44.544387Z",
     "iopub.status.busy": "2020-11-15T14:14:44.543610Z",
     "iopub.status.idle": "2020-11-15T14:14:44.547787Z",
     "shell.execute_reply": "2020-11-15T14:14:44.547125Z"
    },
    "papermill": {
     "duration": 0.079401,
     "end_time": "2020-11-15T14:14:44.547913",
     "exception": false,
     "start_time": "2020-11-15T14:14:44.468512",
     "status": "completed"
    },
    "tags": []
   },
   "outputs": [
    {
     "data": {
      "text/html": [
       "<div>\n",
       "<style scoped>\n",
       "    .dataframe tbody tr th:only-of-type {\n",
       "        vertical-align: middle;\n",
       "    }\n",
       "\n",
       "    .dataframe tbody tr th {\n",
       "        vertical-align: top;\n",
       "    }\n",
       "\n",
       "    .dataframe thead th {\n",
       "        text-align: right;\n",
       "    }\n",
       "</style>\n",
       "<table border=\"1\" class=\"dataframe\">\n",
       "  <thead>\n",
       "    <tr style=\"text-align: right;\">\n",
       "      <th></th>\n",
       "      <th>Model</th>\n",
       "      <th>Score</th>\n",
       "    </tr>\n",
       "  </thead>\n",
       "  <tbody>\n",
       "    <tr>\n",
       "      <th>4</th>\n",
       "      <td>Perceptron</td>\n",
       "      <td>61.35</td>\n",
       "    </tr>\n",
       "    <tr>\n",
       "      <th>5</th>\n",
       "      <td>SGD</td>\n",
       "      <td>65.35</td>\n",
       "    </tr>\n",
       "    <tr>\n",
       "      <th>3</th>\n",
       "      <td>Naive Bayes</td>\n",
       "      <td>75.45</td>\n",
       "    </tr>\n",
       "    <tr>\n",
       "      <th>0</th>\n",
       "      <td>SVC</td>\n",
       "      <td>76.05</td>\n",
       "    </tr>\n",
       "    <tr>\n",
       "      <th>1</th>\n",
       "      <td>KNN</td>\n",
       "      <td>76.95</td>\n",
       "    </tr>\n",
       "    <tr>\n",
       "      <th>2</th>\n",
       "      <td>Random Forest</td>\n",
       "      <td>99.75</td>\n",
       "    </tr>\n",
       "    <tr>\n",
       "      <th>6</th>\n",
       "      <td>Decision Tree</td>\n",
       "      <td>99.75</td>\n",
       "    </tr>\n",
       "  </tbody>\n",
       "</table>\n",
       "</div>"
      ],
      "text/plain": [
       "           Model  Score\n",
       "4     Perceptron  61.35\n",
       "5            SGD  65.35\n",
       "3    Naive Bayes  75.45\n",
       "0            SVC  76.05\n",
       "1            KNN  76.95\n",
       "2  Random Forest  99.75\n",
       "6  Decision Tree  99.75"
      ]
     },
     "execution_count": 31,
     "metadata": {},
     "output_type": "execute_result"
    }
   ],
   "source": [
    "#checking success rate of each classification algorithm\n",
    "models = pd.DataFrame({'Model': ['SVC', 'KNN', 'Random Forest', 'Naive Bayes', 'Perceptron', 'SGD', 'Decision Tree'], 'Score': [acc_svc, acc_knn, acc_random_forest, acc_gaussian, acc_perceptron, acc_sgd, acc_decision_tree]})\n",
    "models.sort_values(by='Score', ascending=True)"
   ]
  },
  {
   "cell_type": "markdown",
   "metadata": {
    "papermill": {
     "duration": 0.088869,
     "end_time": "2020-11-15T14:14:44.699255",
     "exception": false,
     "start_time": "2020-11-15T14:14:44.610386",
     "status": "completed"
    },
    "tags": []
   },
   "source": [
    "We can even plot this on a bar graph"
   ]
  },
  {
   "cell_type": "code",
   "execution_count": 32,
   "metadata": {
    "execution": {
     "iopub.execute_input": "2020-11-15T14:14:44.837919Z",
     "iopub.status.busy": "2020-11-15T14:14:44.836840Z",
     "iopub.status.idle": "2020-11-15T14:14:45.111846Z",
     "shell.execute_reply": "2020-11-15T14:14:45.111259Z"
    },
    "papermill": {
     "duration": 0.350326,
     "end_time": "2020-11-15T14:14:45.111965",
     "exception": false,
     "start_time": "2020-11-15T14:14:44.761639",
     "status": "completed"
    },
    "tags": []
   },
   "outputs": [
    {
     "data": {
      "image/png": "[encoded data removed]",
      "text/plain": [
       "<Figure size 720x576 with 1 Axes>"
      ]
     },
     "metadata": {},
     "output_type": "display_data"
    }
   ],
   "source": [
    "fig, ax = plt.subplots(figsize=(10, 8))\n",
    "plt.rcParams['font.sans-serif'] = 'Arial'\n",
    "plt.rcParams['font.family'] = 'sans-serif'\n",
    "plt.rcParams['text.color'] = '#000000'\n",
    "plt.rcParams['axes.labelcolor']= '#000000'\n",
    "plt.rcParams['xtick.color'] = '#000000'\n",
    "plt.rcParams['ytick.color'] = '#000000'\n",
    "plt.rcParams['font.size']=12\n",
    "\n",
    "sns.despine()\n",
    "sns.set_style(\"white\")\n",
    "sns_agelive = sns.barplot(y='Model', x='Score', data=models.reset_index(), ax=ax)\n",
    "ax.set_title(\"Machine Learning Models - Performance\", fontsize=15)\n",
    "ax.set_ylabel(\"Score\")\n",
    "ax.set_xlabel(\"Machine Learning Model\")\n",
    "ax.set_yticklabels(models.Model)\n",
    "plt.show()"
   ]
  },
  {
   "cell_type": "markdown",
   "metadata": {
    "papermill": {
     "duration": 0.064249,
     "end_time": "2020-11-15T14:14:45.238926",
     "exception": false,
     "start_time": "2020-11-15T14:14:45.174677",
     "status": "completed"
    },
    "tags": []
   },
   "source": [
    "We present our submissions in the form of a dataset. \n",
    "\n",
    "Dataset is comprised of the ID of the device and the price range it fits into. "
   ]
  },
  {
   "cell_type": "code",
   "execution_count": 33,
   "metadata": {
    "execution": {
     "iopub.execute_input": "2020-11-15T14:14:45.372267Z",
     "iopub.status.busy": "2020-11-15T14:14:45.371625Z",
     "iopub.status.idle": "2020-11-15T14:14:45.667673Z",
     "shell.execute_reply": "2020-11-15T14:14:45.666906Z"
    },
    "papermill": {
     "duration": 0.366003,
     "end_time": "2020-11-15T14:14:45.667796",
     "exception": false,
     "start_time": "2020-11-15T14:14:45.301793",
     "status": "completed"
    },
    "tags": []
   },
   "outputs": [],
   "source": [
    "# convert the submission into a csv file\n",
    "submission = pd.DataFrame({\n",
    "        \"id\": test[\"id\"],\n",
    "        \"price_range\": Y_pred\n",
    "    })\n",
    "submission.to_csv(\"Predictions_Mobile_Price_Classification.csv\")"
   ]
  },
  {
   "cell_type": "markdown",
   "metadata": {
    "papermill": {
     "duration": 0.062656,
     "end_time": "2020-11-15T14:14:45.794132",
     "exception": false,
     "start_time": "2020-11-15T14:14:45.731476",
     "status": "completed"
    },
    "tags": []
   },
   "source": [
    "# Thank You!\n",
    "\n",
    "Do kindly leave your suggestions and inputs for this project. "
   ]
  }
 ],
 "metadata": {
  "kernelspec": {
   "display_name": "Python 3",
   "language": "python",
   "name": "python3"
  },
  "language_info": {
   "codemirror_mode": {
    "name": "ipython",
    "version": 3
   },
   "file_extension": ".py",
   "mimetype": "text/x-python",
   "name": "python",
   "nbconvert_exporter": "python",
   "pygments_lexer": "ipython3",
   "version": "3.7.6"
  },
  "papermill": {
   "duration": 21.532185,
   "end_time": "2020-11-15T14:14:45.964738",
   "environment_variables": {},
   "exception": null,
   "input_path": "__notebook__.ipynb",
   "output_path": "__notebook__.ipynb",
   "parameters": {},
   "start_time": "2020-11-15T14:14:24.432553",
   "version": "2.1.0"
  }
 },
 "nbformat": 4,
 "nbformat_minor": 4
}
